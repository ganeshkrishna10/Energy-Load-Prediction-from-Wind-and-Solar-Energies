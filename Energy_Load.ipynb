{
  "nbformat": 4,
  "nbformat_minor": 0,
  "metadata": {
    "colab": {
      "provenance": []
    },
    "kernelspec": {
      "name": "python3",
      "display_name": "Python 3"
    },
    "language_info": {
      "name": "python"
    }
  },
  "cells": [
    {
      "cell_type": "code",
      "execution_count": null,
      "metadata": {
        "id": "r5SZR2TMoBAe"
      },
      "outputs": [],
      "source": [
        "import pandas as pd\n",
        "from sklearn.model_selection import train_test_split\n",
        "from sklearn.preprocessing import MinMaxScaler\n",
        "import tensorflow as tf\n",
        "from tensorflow.keras.models import Model\n",
        "from tensorflow.keras.layers import Input, Dense, Add\n",
        "from tensorflow.keras.optimizers import Adam\n",
        "from tensorflow.keras.callbacks import EarlyStopping"
      ]
    },
    {
      "cell_type": "code",
      "source": [
        "data = pd.read_csv('/content/drive/MyDrive/FP/time_series_60min_singleindex.csv')"
      ],
      "metadata": {
        "id": "DAoGjgh7o1v2"
      },
      "execution_count": null,
      "outputs": []
    },
    {
      "cell_type": "code",
      "source": [
        "data.head()"
      ],
      "metadata": {
        "colab": {
          "base_uri": "https://localhost:8080/",
          "height": 342
        },
        "id": "HDA3Ftlpo4Yf",
        "outputId": "c473b6c3-f540-422d-c2b2-19076e92a54e"
      },
      "execution_count": null,
      "outputs": [
        {
          "output_type": "execute_result",
          "data": {
            "text/plain": [
              "          utc_timestamp        cet_cest_timestamp  \\\n",
              "0  2014-12-31T23:00:00Z  2015-01-01T00:00:00+0100   \n",
              "1  2015-01-01T00:00:00Z  2015-01-01T01:00:00+0100   \n",
              "2  2015-01-01T01:00:00Z  2015-01-01T02:00:00+0100   \n",
              "3  2015-01-01T02:00:00Z  2015-01-01T03:00:00+0100   \n",
              "4  2015-01-01T03:00:00Z  2015-01-01T04:00:00+0100   \n",
              "\n",
              "   AT_load_actual_entsoe_transparency  AT_load_forecast_entsoe_transparency  \\\n",
              "0                                 NaN                                   NaN   \n",
              "1                              5946.0                                6701.0   \n",
              "2                              5726.0                                6593.0   \n",
              "3                              5347.0                                6482.0   \n",
              "4                              5249.0                                6454.0   \n",
              "\n",
              "   AT_price_day_ahead  AT_solar_generation_actual  \\\n",
              "0                 NaN                         NaN   \n",
              "1                35.0                         NaN   \n",
              "2                45.0                         NaN   \n",
              "3                41.0                         NaN   \n",
              "4                38.0                         NaN   \n",
              "\n",
              "   AT_wind_onshore_generation_actual  BE_load_actual_entsoe_transparency  \\\n",
              "0                                NaN                                 NaN   \n",
              "1                               69.0                              9484.0   \n",
              "2                               64.0                              9152.0   \n",
              "3                               65.0                              8799.0   \n",
              "4                               64.0                              8567.0   \n",
              "\n",
              "   BE_load_forecast_entsoe_transparency  BE_solar_generation_actual  ...  \\\n",
              "0                                   NaN                         NaN  ...   \n",
              "1                                9897.0                         NaN  ...   \n",
              "2                                9521.0                         NaN  ...   \n",
              "3                                9135.0                         NaN  ...   \n",
              "4                                8909.0                         NaN  ...   \n",
              "\n",
              "   SI_load_actual_entsoe_transparency  SI_load_forecast_entsoe_transparency  \\\n",
              "0                                 NaN                                   NaN   \n",
              "1                                 NaN                                   NaN   \n",
              "2                             1045.47                                 816.0   \n",
              "3                             1004.79                                 805.0   \n",
              "4                              983.79                                 803.0   \n",
              "\n",
              "   SI_solar_generation_actual  SI_wind_onshore_generation_actual  \\\n",
              "0                         NaN                                NaN   \n",
              "1                         NaN                                NaN   \n",
              "2                         NaN                               1.17   \n",
              "3                         NaN                               1.04   \n",
              "4                         NaN                               1.61   \n",
              "\n",
              "   SK_load_actual_entsoe_transparency  SK_load_forecast_entsoe_transparency  \\\n",
              "0                                 NaN                                   NaN   \n",
              "1                                 NaN                                   NaN   \n",
              "2                              2728.0                                2860.0   \n",
              "3                              2626.0                                2810.0   \n",
              "4                              2618.0                                2780.0   \n",
              "\n",
              "   SK_solar_generation_actual  SK_wind_onshore_generation_actual  \\\n",
              "0                         NaN                                NaN   \n",
              "1                         NaN                                NaN   \n",
              "2                         3.8                                NaN   \n",
              "3                         3.8                                NaN   \n",
              "4                         3.8                                NaN   \n",
              "\n",
              "   UA_load_actual_entsoe_transparency  UA_load_forecast_entsoe_transparency  \n",
              "0                                 NaN                                   NaN  \n",
              "1                                 NaN                                   NaN  \n",
              "2                                 NaN                                   NaN  \n",
              "3                                 NaN                                   NaN  \n",
              "4                                 NaN                                   NaN  \n",
              "\n",
              "[5 rows x 300 columns]"
            ],
            "text/html": [
              "\n",
              "  <div id=\"df-00ec57c3-4b84-4362-9843-60054be64d38\" class=\"colab-df-container\">\n",
              "    <div>\n",
              "<style scoped>\n",
              "    .dataframe tbody tr th:only-of-type {\n",
              "        vertical-align: middle;\n",
              "    }\n",
              "\n",
              "    .dataframe tbody tr th {\n",
              "        vertical-align: top;\n",
              "    }\n",
              "\n",
              "    .dataframe thead th {\n",
              "        text-align: right;\n",
              "    }\n",
              "</style>\n",
              "<table border=\"1\" class=\"dataframe\">\n",
              "  <thead>\n",
              "    <tr style=\"text-align: right;\">\n",
              "      <th></th>\n",
              "      <th>utc_timestamp</th>\n",
              "      <th>cet_cest_timestamp</th>\n",
              "      <th>AT_load_actual_entsoe_transparency</th>\n",
              "      <th>AT_load_forecast_entsoe_transparency</th>\n",
              "      <th>AT_price_day_ahead</th>\n",
              "      <th>AT_solar_generation_actual</th>\n",
              "      <th>AT_wind_onshore_generation_actual</th>\n",
              "      <th>BE_load_actual_entsoe_transparency</th>\n",
              "      <th>BE_load_forecast_entsoe_transparency</th>\n",
              "      <th>BE_solar_generation_actual</th>\n",
              "      <th>...</th>\n",
              "      <th>SI_load_actual_entsoe_transparency</th>\n",
              "      <th>SI_load_forecast_entsoe_transparency</th>\n",
              "      <th>SI_solar_generation_actual</th>\n",
              "      <th>SI_wind_onshore_generation_actual</th>\n",
              "      <th>SK_load_actual_entsoe_transparency</th>\n",
              "      <th>SK_load_forecast_entsoe_transparency</th>\n",
              "      <th>SK_solar_generation_actual</th>\n",
              "      <th>SK_wind_onshore_generation_actual</th>\n",
              "      <th>UA_load_actual_entsoe_transparency</th>\n",
              "      <th>UA_load_forecast_entsoe_transparency</th>\n",
              "    </tr>\n",
              "  </thead>\n",
              "  <tbody>\n",
              "    <tr>\n",
              "      <th>0</th>\n",
              "      <td>2014-12-31T23:00:00Z</td>\n",
              "      <td>2015-01-01T00:00:00+0100</td>\n",
              "      <td>NaN</td>\n",
              "      <td>NaN</td>\n",
              "      <td>NaN</td>\n",
              "      <td>NaN</td>\n",
              "      <td>NaN</td>\n",
              "      <td>NaN</td>\n",
              "      <td>NaN</td>\n",
              "      <td>NaN</td>\n",
              "      <td>...</td>\n",
              "      <td>NaN</td>\n",
              "      <td>NaN</td>\n",
              "      <td>NaN</td>\n",
              "      <td>NaN</td>\n",
              "      <td>NaN</td>\n",
              "      <td>NaN</td>\n",
              "      <td>NaN</td>\n",
              "      <td>NaN</td>\n",
              "      <td>NaN</td>\n",
              "      <td>NaN</td>\n",
              "    </tr>\n",
              "    <tr>\n",
              "      <th>1</th>\n",
              "      <td>2015-01-01T00:00:00Z</td>\n",
              "      <td>2015-01-01T01:00:00+0100</td>\n",
              "      <td>5946.0</td>\n",
              "      <td>6701.0</td>\n",
              "      <td>35.0</td>\n",
              "      <td>NaN</td>\n",
              "      <td>69.0</td>\n",
              "      <td>9484.0</td>\n",
              "      <td>9897.0</td>\n",
              "      <td>NaN</td>\n",
              "      <td>...</td>\n",
              "      <td>NaN</td>\n",
              "      <td>NaN</td>\n",
              "      <td>NaN</td>\n",
              "      <td>NaN</td>\n",
              "      <td>NaN</td>\n",
              "      <td>NaN</td>\n",
              "      <td>NaN</td>\n",
              "      <td>NaN</td>\n",
              "      <td>NaN</td>\n",
              "      <td>NaN</td>\n",
              "    </tr>\n",
              "    <tr>\n",
              "      <th>2</th>\n",
              "      <td>2015-01-01T01:00:00Z</td>\n",
              "      <td>2015-01-01T02:00:00+0100</td>\n",
              "      <td>5726.0</td>\n",
              "      <td>6593.0</td>\n",
              "      <td>45.0</td>\n",
              "      <td>NaN</td>\n",
              "      <td>64.0</td>\n",
              "      <td>9152.0</td>\n",
              "      <td>9521.0</td>\n",
              "      <td>NaN</td>\n",
              "      <td>...</td>\n",
              "      <td>1045.47</td>\n",
              "      <td>816.0</td>\n",
              "      <td>NaN</td>\n",
              "      <td>1.17</td>\n",
              "      <td>2728.0</td>\n",
              "      <td>2860.0</td>\n",
              "      <td>3.8</td>\n",
              "      <td>NaN</td>\n",
              "      <td>NaN</td>\n",
              "      <td>NaN</td>\n",
              "    </tr>\n",
              "    <tr>\n",
              "      <th>3</th>\n",
              "      <td>2015-01-01T02:00:00Z</td>\n",
              "      <td>2015-01-01T03:00:00+0100</td>\n",
              "      <td>5347.0</td>\n",
              "      <td>6482.0</td>\n",
              "      <td>41.0</td>\n",
              "      <td>NaN</td>\n",
              "      <td>65.0</td>\n",
              "      <td>8799.0</td>\n",
              "      <td>9135.0</td>\n",
              "      <td>NaN</td>\n",
              "      <td>...</td>\n",
              "      <td>1004.79</td>\n",
              "      <td>805.0</td>\n",
              "      <td>NaN</td>\n",
              "      <td>1.04</td>\n",
              "      <td>2626.0</td>\n",
              "      <td>2810.0</td>\n",
              "      <td>3.8</td>\n",
              "      <td>NaN</td>\n",
              "      <td>NaN</td>\n",
              "      <td>NaN</td>\n",
              "    </tr>\n",
              "    <tr>\n",
              "      <th>4</th>\n",
              "      <td>2015-01-01T03:00:00Z</td>\n",
              "      <td>2015-01-01T04:00:00+0100</td>\n",
              "      <td>5249.0</td>\n",
              "      <td>6454.0</td>\n",
              "      <td>38.0</td>\n",
              "      <td>NaN</td>\n",
              "      <td>64.0</td>\n",
              "      <td>8567.0</td>\n",
              "      <td>8909.0</td>\n",
              "      <td>NaN</td>\n",
              "      <td>...</td>\n",
              "      <td>983.79</td>\n",
              "      <td>803.0</td>\n",
              "      <td>NaN</td>\n",
              "      <td>1.61</td>\n",
              "      <td>2618.0</td>\n",
              "      <td>2780.0</td>\n",
              "      <td>3.8</td>\n",
              "      <td>NaN</td>\n",
              "      <td>NaN</td>\n",
              "      <td>NaN</td>\n",
              "    </tr>\n",
              "  </tbody>\n",
              "</table>\n",
              "<p>5 rows × 300 columns</p>\n",
              "</div>\n",
              "    <div class=\"colab-df-buttons\">\n",
              "\n",
              "  <div class=\"colab-df-container\">\n",
              "    <button class=\"colab-df-convert\" onclick=\"convertToInteractive('df-00ec57c3-4b84-4362-9843-60054be64d38')\"\n",
              "            title=\"Convert this dataframe to an interactive table.\"\n",
              "            style=\"display:none;\">\n",
              "\n",
              "  <svg xmlns=\"http://www.w3.org/2000/svg\" height=\"24px\" viewBox=\"0 -960 960 960\">\n",
              "    <path d=\"M120-120v-720h720v720H120Zm60-500h600v-160H180v160Zm220 220h160v-160H400v160Zm0 220h160v-160H400v160ZM180-400h160v-160H180v160Zm440 0h160v-160H620v160ZM180-180h160v-160H180v160Zm440 0h160v-160H620v160Z\"/>\n",
              "  </svg>\n",
              "    </button>\n",
              "\n",
              "  <style>\n",
              "    .colab-df-container {\n",
              "      display:flex;\n",
              "      gap: 12px;\n",
              "    }\n",
              "\n",
              "    .colab-df-convert {\n",
              "      background-color: #E8F0FE;\n",
              "      border: none;\n",
              "      border-radius: 50%;\n",
              "      cursor: pointer;\n",
              "      display: none;\n",
              "      fill: #1967D2;\n",
              "      height: 32px;\n",
              "      padding: 0 0 0 0;\n",
              "      width: 32px;\n",
              "    }\n",
              "\n",
              "    .colab-df-convert:hover {\n",
              "      background-color: #E2EBFA;\n",
              "      box-shadow: 0px 1px 2px rgba(60, 64, 67, 0.3), 0px 1px 3px 1px rgba(60, 64, 67, 0.15);\n",
              "      fill: #174EA6;\n",
              "    }\n",
              "\n",
              "    .colab-df-buttons div {\n",
              "      margin-bottom: 4px;\n",
              "    }\n",
              "\n",
              "    [theme=dark] .colab-df-convert {\n",
              "      background-color: #3B4455;\n",
              "      fill: #D2E3FC;\n",
              "    }\n",
              "\n",
              "    [theme=dark] .colab-df-convert:hover {\n",
              "      background-color: #434B5C;\n",
              "      box-shadow: 0px 1px 3px 1px rgba(0, 0, 0, 0.15);\n",
              "      filter: drop-shadow(0px 1px 2px rgba(0, 0, 0, 0.3));\n",
              "      fill: #FFFFFF;\n",
              "    }\n",
              "  </style>\n",
              "\n",
              "    <script>\n",
              "      const buttonEl =\n",
              "        document.querySelector('#df-00ec57c3-4b84-4362-9843-60054be64d38 button.colab-df-convert');\n",
              "      buttonEl.style.display =\n",
              "        google.colab.kernel.accessAllowed ? 'block' : 'none';\n",
              "\n",
              "      async function convertToInteractive(key) {\n",
              "        const element = document.querySelector('#df-00ec57c3-4b84-4362-9843-60054be64d38');\n",
              "        const dataTable =\n",
              "          await google.colab.kernel.invokeFunction('convertToInteractive',\n",
              "                                                    [key], {});\n",
              "        if (!dataTable) return;\n",
              "\n",
              "        const docLinkHtml = 'Like what you see? Visit the ' +\n",
              "          '<a target=\"_blank\" href=https://colab.research.google.com/notebooks/data_table.ipynb>data table notebook</a>'\n",
              "          + ' to learn more about interactive tables.';\n",
              "        element.innerHTML = '';\n",
              "        dataTable['output_type'] = 'display_data';\n",
              "        await google.colab.output.renderOutput(dataTable, element);\n",
              "        const docLink = document.createElement('div');\n",
              "        docLink.innerHTML = docLinkHtml;\n",
              "        element.appendChild(docLink);\n",
              "      }\n",
              "    </script>\n",
              "  </div>\n",
              "\n",
              "\n",
              "<div id=\"df-bee48d03-83bc-4213-b388-b4de66d081eb\">\n",
              "  <button class=\"colab-df-quickchart\" onclick=\"quickchart('df-bee48d03-83bc-4213-b388-b4de66d081eb')\"\n",
              "            title=\"Suggest charts\"\n",
              "            style=\"display:none;\">\n",
              "\n",
              "<svg xmlns=\"http://www.w3.org/2000/svg\" height=\"24px\"viewBox=\"0 0 24 24\"\n",
              "     width=\"24px\">\n",
              "    <g>\n",
              "        <path d=\"M19 3H5c-1.1 0-2 .9-2 2v14c0 1.1.9 2 2 2h14c1.1 0 2-.9 2-2V5c0-1.1-.9-2-2-2zM9 17H7v-7h2v7zm4 0h-2V7h2v10zm4 0h-2v-4h2v4z\"/>\n",
              "    </g>\n",
              "</svg>\n",
              "  </button>\n",
              "\n",
              "<style>\n",
              "  .colab-df-quickchart {\n",
              "      --bg-color: #E8F0FE;\n",
              "      --fill-color: #1967D2;\n",
              "      --hover-bg-color: #E2EBFA;\n",
              "      --hover-fill-color: #174EA6;\n",
              "      --disabled-fill-color: #AAA;\n",
              "      --disabled-bg-color: #DDD;\n",
              "  }\n",
              "\n",
              "  [theme=dark] .colab-df-quickchart {\n",
              "      --bg-color: #3B4455;\n",
              "      --fill-color: #D2E3FC;\n",
              "      --hover-bg-color: #434B5C;\n",
              "      --hover-fill-color: #FFFFFF;\n",
              "      --disabled-bg-color: #3B4455;\n",
              "      --disabled-fill-color: #666;\n",
              "  }\n",
              "\n",
              "  .colab-df-quickchart {\n",
              "    background-color: var(--bg-color);\n",
              "    border: none;\n",
              "    border-radius: 50%;\n",
              "    cursor: pointer;\n",
              "    display: none;\n",
              "    fill: var(--fill-color);\n",
              "    height: 32px;\n",
              "    padding: 0;\n",
              "    width: 32px;\n",
              "  }\n",
              "\n",
              "  .colab-df-quickchart:hover {\n",
              "    background-color: var(--hover-bg-color);\n",
              "    box-shadow: 0 1px 2px rgba(60, 64, 67, 0.3), 0 1px 3px 1px rgba(60, 64, 67, 0.15);\n",
              "    fill: var(--button-hover-fill-color);\n",
              "  }\n",
              "\n",
              "  .colab-df-quickchart-complete:disabled,\n",
              "  .colab-df-quickchart-complete:disabled:hover {\n",
              "    background-color: var(--disabled-bg-color);\n",
              "    fill: var(--disabled-fill-color);\n",
              "    box-shadow: none;\n",
              "  }\n",
              "\n",
              "  .colab-df-spinner {\n",
              "    border: 2px solid var(--fill-color);\n",
              "    border-color: transparent;\n",
              "    border-bottom-color: var(--fill-color);\n",
              "    animation:\n",
              "      spin 1s steps(1) infinite;\n",
              "  }\n",
              "\n",
              "  @keyframes spin {\n",
              "    0% {\n",
              "      border-color: transparent;\n",
              "      border-bottom-color: var(--fill-color);\n",
              "      border-left-color: var(--fill-color);\n",
              "    }\n",
              "    20% {\n",
              "      border-color: transparent;\n",
              "      border-left-color: var(--fill-color);\n",
              "      border-top-color: var(--fill-color);\n",
              "    }\n",
              "    30% {\n",
              "      border-color: transparent;\n",
              "      border-left-color: var(--fill-color);\n",
              "      border-top-color: var(--fill-color);\n",
              "      border-right-color: var(--fill-color);\n",
              "    }\n",
              "    40% {\n",
              "      border-color: transparent;\n",
              "      border-right-color: var(--fill-color);\n",
              "      border-top-color: var(--fill-color);\n",
              "    }\n",
              "    60% {\n",
              "      border-color: transparent;\n",
              "      border-right-color: var(--fill-color);\n",
              "    }\n",
              "    80% {\n",
              "      border-color: transparent;\n",
              "      border-right-color: var(--fill-color);\n",
              "      border-bottom-color: var(--fill-color);\n",
              "    }\n",
              "    90% {\n",
              "      border-color: transparent;\n",
              "      border-bottom-color: var(--fill-color);\n",
              "    }\n",
              "  }\n",
              "</style>\n",
              "\n",
              "  <script>\n",
              "    async function quickchart(key) {\n",
              "      const quickchartButtonEl =\n",
              "        document.querySelector('#' + key + ' button');\n",
              "      quickchartButtonEl.disabled = true;  // To prevent multiple clicks.\n",
              "      quickchartButtonEl.classList.add('colab-df-spinner');\n",
              "      try {\n",
              "        const charts = await google.colab.kernel.invokeFunction(\n",
              "            'suggestCharts', [key], {});\n",
              "      } catch (error) {\n",
              "        console.error('Error during call to suggestCharts:', error);\n",
              "      }\n",
              "      quickchartButtonEl.classList.remove('colab-df-spinner');\n",
              "      quickchartButtonEl.classList.add('colab-df-quickchart-complete');\n",
              "    }\n",
              "    (() => {\n",
              "      let quickchartButtonEl =\n",
              "        document.querySelector('#df-bee48d03-83bc-4213-b388-b4de66d081eb button');\n",
              "      quickchartButtonEl.style.display =\n",
              "        google.colab.kernel.accessAllowed ? 'block' : 'none';\n",
              "    })();\n",
              "  </script>\n",
              "</div>\n",
              "\n",
              "    </div>\n",
              "  </div>\n"
            ],
            "application/vnd.google.colaboratory.intrinsic+json": {
              "type": "dataframe",
              "variable_name": "data"
            }
          },
          "metadata": {},
          "execution_count": 3
        }
      ]
    },
    {
      "cell_type": "code",
      "source": [
        "data.info()"
      ],
      "metadata": {
        "colab": {
          "base_uri": "https://localhost:8080/"
        },
        "id": "pnG2UnpSo7uN",
        "outputId": "64e6dfd8-ffb0-4553-f1db-a71319157dfc"
      },
      "execution_count": null,
      "outputs": [
        {
          "output_type": "stream",
          "name": "stdout",
          "text": [
            "<class 'pandas.core.frame.DataFrame'>\n",
            "RangeIndex: 832 entries, 0 to 831\n",
            "Columns: 300 entries, utc_timestamp to UA_load_forecast_entsoe_transparency\n",
            "dtypes: float64(298), object(2)\n",
            "memory usage: 1.9+ MB\n"
          ]
        }
      ]
    },
    {
      "cell_type": "code",
      "source": [
        "data.columns"
      ],
      "metadata": {
        "colab": {
          "base_uri": "https://localhost:8080/"
        },
        "id": "Q_20AdxZpAzx",
        "outputId": "cfb7b4fc-59c9-4e23-a840-ac3362e09043"
      },
      "execution_count": null,
      "outputs": [
        {
          "output_type": "execute_result",
          "data": {
            "text/plain": [
              "Index(['utc_timestamp', 'cet_cest_timestamp',\n",
              "       'AT_load_actual_entsoe_transparency',\n",
              "       'AT_load_forecast_entsoe_transparency', 'AT_price_day_ahead',\n",
              "       'AT_solar_generation_actual', 'AT_wind_onshore_generation_actual',\n",
              "       'BE_load_actual_entsoe_transparency',\n",
              "       'BE_load_forecast_entsoe_transparency', 'BE_solar_generation_actual',\n",
              "       ...\n",
              "       'SI_load_actual_entsoe_transparency',\n",
              "       'SI_load_forecast_entsoe_transparency', 'SI_solar_generation_actual',\n",
              "       'SI_wind_onshore_generation_actual',\n",
              "       'SK_load_actual_entsoe_transparency',\n",
              "       'SK_load_forecast_entsoe_transparency', 'SK_solar_generation_actual',\n",
              "       'SK_wind_onshore_generation_actual',\n",
              "       'UA_load_actual_entsoe_transparency',\n",
              "       'UA_load_forecast_entsoe_transparency'],\n",
              "      dtype='object', length=300)"
            ]
          },
          "metadata": {},
          "execution_count": 5
        }
      ]
    },
    {
      "cell_type": "code",
      "source": [
        "data.sum()"
      ],
      "metadata": {
        "colab": {
          "base_uri": "https://localhost:8080/",
          "height": 458
        },
        "id": "fevpOa4mpCtO",
        "outputId": "68c7b425-c7cb-4e26-b082-de1bdb747c94"
      },
      "execution_count": null,
      "outputs": [
        {
          "output_type": "execute_result",
          "data": {
            "text/plain": [
              "utc_timestamp                           2014-12-31T23:00:00Z2015-01-01T00:00:00Z2015-0...\n",
              "cet_cest_timestamp                      2015-01-01T00:00:00+01002015-01-01T01:00:00+01...\n",
              "AT_load_actual_entsoe_transparency                                              5777524.0\n",
              "AT_load_forecast_entsoe_transparency                                            6290294.0\n",
              "AT_price_day_ahead                                                                23677.0\n",
              "                                                              ...                        \n",
              "SK_load_forecast_entsoe_transparency                                            2875790.0\n",
              "SK_solar_generation_actual                                                       13352.85\n",
              "SK_wind_onshore_generation_actual                                                     0.0\n",
              "UA_load_actual_entsoe_transparency                                                    0.0\n",
              "UA_load_forecast_entsoe_transparency                                                  0.0\n",
              "Length: 300, dtype: object"
            ],
            "text/html": [
              "<div>\n",
              "<style scoped>\n",
              "    .dataframe tbody tr th:only-of-type {\n",
              "        vertical-align: middle;\n",
              "    }\n",
              "\n",
              "    .dataframe tbody tr th {\n",
              "        vertical-align: top;\n",
              "    }\n",
              "\n",
              "    .dataframe thead th {\n",
              "        text-align: right;\n",
              "    }\n",
              "</style>\n",
              "<table border=\"1\" class=\"dataframe\">\n",
              "  <thead>\n",
              "    <tr style=\"text-align: right;\">\n",
              "      <th></th>\n",
              "      <th>0</th>\n",
              "    </tr>\n",
              "  </thead>\n",
              "  <tbody>\n",
              "    <tr>\n",
              "      <th>utc_timestamp</th>\n",
              "      <td>2014-12-31T23:00:00Z2015-01-01T00:00:00Z2015-0...</td>\n",
              "    </tr>\n",
              "    <tr>\n",
              "      <th>cet_cest_timestamp</th>\n",
              "      <td>2015-01-01T00:00:00+01002015-01-01T01:00:00+01...</td>\n",
              "    </tr>\n",
              "    <tr>\n",
              "      <th>AT_load_actual_entsoe_transparency</th>\n",
              "      <td>5777524.0</td>\n",
              "    </tr>\n",
              "    <tr>\n",
              "      <th>AT_load_forecast_entsoe_transparency</th>\n",
              "      <td>6290294.0</td>\n",
              "    </tr>\n",
              "    <tr>\n",
              "      <th>AT_price_day_ahead</th>\n",
              "      <td>23677.0</td>\n",
              "    </tr>\n",
              "    <tr>\n",
              "      <th>...</th>\n",
              "      <td>...</td>\n",
              "    </tr>\n",
              "    <tr>\n",
              "      <th>SK_load_forecast_entsoe_transparency</th>\n",
              "      <td>2875790.0</td>\n",
              "    </tr>\n",
              "    <tr>\n",
              "      <th>SK_solar_generation_actual</th>\n",
              "      <td>13352.85</td>\n",
              "    </tr>\n",
              "    <tr>\n",
              "      <th>SK_wind_onshore_generation_actual</th>\n",
              "      <td>0.0</td>\n",
              "    </tr>\n",
              "    <tr>\n",
              "      <th>UA_load_actual_entsoe_transparency</th>\n",
              "      <td>0.0</td>\n",
              "    </tr>\n",
              "    <tr>\n",
              "      <th>UA_load_forecast_entsoe_transparency</th>\n",
              "      <td>0.0</td>\n",
              "    </tr>\n",
              "  </tbody>\n",
              "</table>\n",
              "<p>300 rows × 1 columns</p>\n",
              "</div><br><label><b>dtype:</b> object</label>"
            ]
          },
          "metadata": {},
          "execution_count": 6
        }
      ]
    },
    {
      "cell_type": "code",
      "source": [
        "data.describe()"
      ],
      "metadata": {
        "colab": {
          "base_uri": "https://localhost:8080/",
          "height": 350
        },
        "id": "FyQUbQ6zpFN3",
        "outputId": "2823cf38-7f76-4d25-a109-00dee42f4ee6"
      },
      "execution_count": null,
      "outputs": [
        {
          "output_type": "execute_result",
          "data": {
            "text/plain": [
              "       AT_load_actual_entsoe_transparency  \\\n",
              "count                          831.000000   \n",
              "mean                          6952.495788   \n",
              "std                           1169.143436   \n",
              "min                           3767.000000   \n",
              "25%                           6073.500000   \n",
              "50%                           6887.000000   \n",
              "75%                           7859.500000   \n",
              "max                           9721.000000   \n",
              "\n",
              "       AT_load_forecast_entsoe_transparency  AT_price_day_ahead  \\\n",
              "count                            831.000000          783.000000   \n",
              "mean                            7569.547533           30.238825   \n",
              "std                              891.076641           14.670653   \n",
              "min                             5713.000000          -23.000000   \n",
              "25%                             6800.000000           22.000000   \n",
              "50%                             7469.000000           30.000000   \n",
              "75%                             8440.000000           40.000000   \n",
              "max                             9320.000000           67.000000   \n",
              "\n",
              "       AT_solar_generation_actual  AT_wind_onshore_generation_actual  \\\n",
              "count                  824.000000                         831.000000   \n",
              "mean                    20.713592                         683.377858   \n",
              "std                     35.086569                         602.581368   \n",
              "min                      0.000000                           1.000000   \n",
              "25%                      0.000000                         188.000000   \n",
              "50%                      0.000000                         437.000000   \n",
              "75%                     32.250000                        1251.000000   \n",
              "max                    168.000000                        1965.000000   \n",
              "\n",
              "       BE_load_actual_entsoe_transparency  \\\n",
              "count                          831.000000   \n",
              "mean                         11309.483755   \n",
              "std                           1299.679441   \n",
              "min                           8122.000000   \n",
              "25%                          10309.500000   \n",
              "50%                          11352.000000   \n",
              "75%                          12543.000000   \n",
              "max                          13670.000000   \n",
              "\n",
              "       BE_load_forecast_entsoe_transparency  BE_solar_generation_actual  \\\n",
              "count                            831.000000                  823.000000   \n",
              "mean                           11112.101083                   96.884447   \n",
              "std                             1301.139824                  206.569760   \n",
              "min                             8036.000000                    0.000000   \n",
              "25%                            10055.500000                    0.000000   \n",
              "50%                            11160.000000                    0.000000   \n",
              "75%                            12368.500000                   73.650000   \n",
              "max                            13454.000000                 1326.080000   \n",
              "\n",
              "       BE_wind_generation_actual  BE_wind_offshore_generation_actual  ...  \\\n",
              "count                 821.000000                          821.000000  ...   \n",
              "mean                  759.432156                          368.957052  ...   \n",
              "std                   522.119027                          235.858046  ...   \n",
              "min                     4.960000                            0.140000  ...   \n",
              "25%                   273.570000                          129.330000  ...   \n",
              "50%                   657.380000                          371.680000  ...   \n",
              "75%                  1242.080000                          621.970000  ...   \n",
              "max                  1670.780000                          678.450000  ...   \n",
              "\n",
              "       SI_load_actual_entsoe_transparency  \\\n",
              "count                          829.000000   \n",
              "mean                          1515.254210   \n",
              "std                            248.026712   \n",
              "min                            983.790000   \n",
              "25%                           1293.850000   \n",
              "50%                           1531.210000   \n",
              "75%                           1723.890000   \n",
              "max                           1946.790000   \n",
              "\n",
              "       SI_load_forecast_entsoe_transparency  SI_solar_generation_actual  \\\n",
              "count                            829.000000                  822.000000   \n",
              "mean                            1501.161641                    8.040097   \n",
              "std                              262.635179                   16.218132   \n",
              "min                              803.000000                    0.000000   \n",
              "25%                             1256.000000                    0.000000   \n",
              "50%                             1556.000000                    0.000000   \n",
              "75%                             1738.000000                    8.812500   \n",
              "max                             1901.000000                   93.600000   \n",
              "\n",
              "       SI_wind_onshore_generation_actual  SK_load_actual_entsoe_transparency  \\\n",
              "count                         829.000000                          829.000000   \n",
              "mean                            0.303607                         3447.856454   \n",
              "std                             0.762717                          409.242496   \n",
              "min                             0.000000                         2575.000000   \n",
              "25%                             0.000000                         3101.000000   \n",
              "50%                             0.000000                         3460.000000   \n",
              "75%                             0.000000                         3858.000000   \n",
              "max                             3.230000                         4118.000000   \n",
              "\n",
              "       SK_load_forecast_entsoe_transparency  SK_solar_generation_actual  \\\n",
              "count                            829.000000                  715.000000   \n",
              "mean                            3468.986731                   18.675315   \n",
              "std                              407.414003                   38.559066   \n",
              "min                             2580.000000                    0.400000   \n",
              "25%                             3120.000000                    0.400000   \n",
              "50%                             3470.000000                    1.300000   \n",
              "75%                             3880.000000                   14.950000   \n",
              "max                             4150.000000                  221.800000   \n",
              "\n",
              "       SK_wind_onshore_generation_actual  UA_load_actual_entsoe_transparency  \\\n",
              "count                                0.0                                 0.0   \n",
              "mean                                 NaN                                 NaN   \n",
              "std                                  NaN                                 NaN   \n",
              "min                                  NaN                                 NaN   \n",
              "25%                                  NaN                                 NaN   \n",
              "50%                                  NaN                                 NaN   \n",
              "75%                                  NaN                                 NaN   \n",
              "max                                  NaN                                 NaN   \n",
              "\n",
              "       UA_load_forecast_entsoe_transparency  \n",
              "count                                   0.0  \n",
              "mean                                    NaN  \n",
              "std                                     NaN  \n",
              "min                                     NaN  \n",
              "25%                                     NaN  \n",
              "50%                                     NaN  \n",
              "75%                                     NaN  \n",
              "max                                     NaN  \n",
              "\n",
              "[8 rows x 298 columns]"
            ],
            "text/html": [
              "\n",
              "  <div id=\"df-52f87f86-afc7-4ab1-8297-970e9820cafb\" class=\"colab-df-container\">\n",
              "    <div>\n",
              "<style scoped>\n",
              "    .dataframe tbody tr th:only-of-type {\n",
              "        vertical-align: middle;\n",
              "    }\n",
              "\n",
              "    .dataframe tbody tr th {\n",
              "        vertical-align: top;\n",
              "    }\n",
              "\n",
              "    .dataframe thead th {\n",
              "        text-align: right;\n",
              "    }\n",
              "</style>\n",
              "<table border=\"1\" class=\"dataframe\">\n",
              "  <thead>\n",
              "    <tr style=\"text-align: right;\">\n",
              "      <th></th>\n",
              "      <th>AT_load_actual_entsoe_transparency</th>\n",
              "      <th>AT_load_forecast_entsoe_transparency</th>\n",
              "      <th>AT_price_day_ahead</th>\n",
              "      <th>AT_solar_generation_actual</th>\n",
              "      <th>AT_wind_onshore_generation_actual</th>\n",
              "      <th>BE_load_actual_entsoe_transparency</th>\n",
              "      <th>BE_load_forecast_entsoe_transparency</th>\n",
              "      <th>BE_solar_generation_actual</th>\n",
              "      <th>BE_wind_generation_actual</th>\n",
              "      <th>BE_wind_offshore_generation_actual</th>\n",
              "      <th>...</th>\n",
              "      <th>SI_load_actual_entsoe_transparency</th>\n",
              "      <th>SI_load_forecast_entsoe_transparency</th>\n",
              "      <th>SI_solar_generation_actual</th>\n",
              "      <th>SI_wind_onshore_generation_actual</th>\n",
              "      <th>SK_load_actual_entsoe_transparency</th>\n",
              "      <th>SK_load_forecast_entsoe_transparency</th>\n",
              "      <th>SK_solar_generation_actual</th>\n",
              "      <th>SK_wind_onshore_generation_actual</th>\n",
              "      <th>UA_load_actual_entsoe_transparency</th>\n",
              "      <th>UA_load_forecast_entsoe_transparency</th>\n",
              "    </tr>\n",
              "  </thead>\n",
              "  <tbody>\n",
              "    <tr>\n",
              "      <th>count</th>\n",
              "      <td>831.000000</td>\n",
              "      <td>831.000000</td>\n",
              "      <td>783.000000</td>\n",
              "      <td>824.000000</td>\n",
              "      <td>831.000000</td>\n",
              "      <td>831.000000</td>\n",
              "      <td>831.000000</td>\n",
              "      <td>823.000000</td>\n",
              "      <td>821.000000</td>\n",
              "      <td>821.000000</td>\n",
              "      <td>...</td>\n",
              "      <td>829.000000</td>\n",
              "      <td>829.000000</td>\n",
              "      <td>822.000000</td>\n",
              "      <td>829.000000</td>\n",
              "      <td>829.000000</td>\n",
              "      <td>829.000000</td>\n",
              "      <td>715.000000</td>\n",
              "      <td>0.0</td>\n",
              "      <td>0.0</td>\n",
              "      <td>0.0</td>\n",
              "    </tr>\n",
              "    <tr>\n",
              "      <th>mean</th>\n",
              "      <td>6952.495788</td>\n",
              "      <td>7569.547533</td>\n",
              "      <td>30.238825</td>\n",
              "      <td>20.713592</td>\n",
              "      <td>683.377858</td>\n",
              "      <td>11309.483755</td>\n",
              "      <td>11112.101083</td>\n",
              "      <td>96.884447</td>\n",
              "      <td>759.432156</td>\n",
              "      <td>368.957052</td>\n",
              "      <td>...</td>\n",
              "      <td>1515.254210</td>\n",
              "      <td>1501.161641</td>\n",
              "      <td>8.040097</td>\n",
              "      <td>0.303607</td>\n",
              "      <td>3447.856454</td>\n",
              "      <td>3468.986731</td>\n",
              "      <td>18.675315</td>\n",
              "      <td>NaN</td>\n",
              "      <td>NaN</td>\n",
              "      <td>NaN</td>\n",
              "    </tr>\n",
              "    <tr>\n",
              "      <th>std</th>\n",
              "      <td>1169.143436</td>\n",
              "      <td>891.076641</td>\n",
              "      <td>14.670653</td>\n",
              "      <td>35.086569</td>\n",
              "      <td>602.581368</td>\n",
              "      <td>1299.679441</td>\n",
              "      <td>1301.139824</td>\n",
              "      <td>206.569760</td>\n",
              "      <td>522.119027</td>\n",
              "      <td>235.858046</td>\n",
              "      <td>...</td>\n",
              "      <td>248.026712</td>\n",
              "      <td>262.635179</td>\n",
              "      <td>16.218132</td>\n",
              "      <td>0.762717</td>\n",
              "      <td>409.242496</td>\n",
              "      <td>407.414003</td>\n",
              "      <td>38.559066</td>\n",
              "      <td>NaN</td>\n",
              "      <td>NaN</td>\n",
              "      <td>NaN</td>\n",
              "    </tr>\n",
              "    <tr>\n",
              "      <th>min</th>\n",
              "      <td>3767.000000</td>\n",
              "      <td>5713.000000</td>\n",
              "      <td>-23.000000</td>\n",
              "      <td>0.000000</td>\n",
              "      <td>1.000000</td>\n",
              "      <td>8122.000000</td>\n",
              "      <td>8036.000000</td>\n",
              "      <td>0.000000</td>\n",
              "      <td>4.960000</td>\n",
              "      <td>0.140000</td>\n",
              "      <td>...</td>\n",
              "      <td>983.790000</td>\n",
              "      <td>803.000000</td>\n",
              "      <td>0.000000</td>\n",
              "      <td>0.000000</td>\n",
              "      <td>2575.000000</td>\n",
              "      <td>2580.000000</td>\n",
              "      <td>0.400000</td>\n",
              "      <td>NaN</td>\n",
              "      <td>NaN</td>\n",
              "      <td>NaN</td>\n",
              "    </tr>\n",
              "    <tr>\n",
              "      <th>25%</th>\n",
              "      <td>6073.500000</td>\n",
              "      <td>6800.000000</td>\n",
              "      <td>22.000000</td>\n",
              "      <td>0.000000</td>\n",
              "      <td>188.000000</td>\n",
              "      <td>10309.500000</td>\n",
              "      <td>10055.500000</td>\n",
              "      <td>0.000000</td>\n",
              "      <td>273.570000</td>\n",
              "      <td>129.330000</td>\n",
              "      <td>...</td>\n",
              "      <td>1293.850000</td>\n",
              "      <td>1256.000000</td>\n",
              "      <td>0.000000</td>\n",
              "      <td>0.000000</td>\n",
              "      <td>3101.000000</td>\n",
              "      <td>3120.000000</td>\n",
              "      <td>0.400000</td>\n",
              "      <td>NaN</td>\n",
              "      <td>NaN</td>\n",
              "      <td>NaN</td>\n",
              "    </tr>\n",
              "    <tr>\n",
              "      <th>50%</th>\n",
              "      <td>6887.000000</td>\n",
              "      <td>7469.000000</td>\n",
              "      <td>30.000000</td>\n",
              "      <td>0.000000</td>\n",
              "      <td>437.000000</td>\n",
              "      <td>11352.000000</td>\n",
              "      <td>11160.000000</td>\n",
              "      <td>0.000000</td>\n",
              "      <td>657.380000</td>\n",
              "      <td>371.680000</td>\n",
              "      <td>...</td>\n",
              "      <td>1531.210000</td>\n",
              "      <td>1556.000000</td>\n",
              "      <td>0.000000</td>\n",
              "      <td>0.000000</td>\n",
              "      <td>3460.000000</td>\n",
              "      <td>3470.000000</td>\n",
              "      <td>1.300000</td>\n",
              "      <td>NaN</td>\n",
              "      <td>NaN</td>\n",
              "      <td>NaN</td>\n",
              "    </tr>\n",
              "    <tr>\n",
              "      <th>75%</th>\n",
              "      <td>7859.500000</td>\n",
              "      <td>8440.000000</td>\n",
              "      <td>40.000000</td>\n",
              "      <td>32.250000</td>\n",
              "      <td>1251.000000</td>\n",
              "      <td>12543.000000</td>\n",
              "      <td>12368.500000</td>\n",
              "      <td>73.650000</td>\n",
              "      <td>1242.080000</td>\n",
              "      <td>621.970000</td>\n",
              "      <td>...</td>\n",
              "      <td>1723.890000</td>\n",
              "      <td>1738.000000</td>\n",
              "      <td>8.812500</td>\n",
              "      <td>0.000000</td>\n",
              "      <td>3858.000000</td>\n",
              "      <td>3880.000000</td>\n",
              "      <td>14.950000</td>\n",
              "      <td>NaN</td>\n",
              "      <td>NaN</td>\n",
              "      <td>NaN</td>\n",
              "    </tr>\n",
              "    <tr>\n",
              "      <th>max</th>\n",
              "      <td>9721.000000</td>\n",
              "      <td>9320.000000</td>\n",
              "      <td>67.000000</td>\n",
              "      <td>168.000000</td>\n",
              "      <td>1965.000000</td>\n",
              "      <td>13670.000000</td>\n",
              "      <td>13454.000000</td>\n",
              "      <td>1326.080000</td>\n",
              "      <td>1670.780000</td>\n",
              "      <td>678.450000</td>\n",
              "      <td>...</td>\n",
              "      <td>1946.790000</td>\n",
              "      <td>1901.000000</td>\n",
              "      <td>93.600000</td>\n",
              "      <td>3.230000</td>\n",
              "      <td>4118.000000</td>\n",
              "      <td>4150.000000</td>\n",
              "      <td>221.800000</td>\n",
              "      <td>NaN</td>\n",
              "      <td>NaN</td>\n",
              "      <td>NaN</td>\n",
              "    </tr>\n",
              "  </tbody>\n",
              "</table>\n",
              "<p>8 rows × 298 columns</p>\n",
              "</div>\n",
              "    <div class=\"colab-df-buttons\">\n",
              "\n",
              "  <div class=\"colab-df-container\">\n",
              "    <button class=\"colab-df-convert\" onclick=\"convertToInteractive('df-52f87f86-afc7-4ab1-8297-970e9820cafb')\"\n",
              "            title=\"Convert this dataframe to an interactive table.\"\n",
              "            style=\"display:none;\">\n",
              "\n",
              "  <svg xmlns=\"http://www.w3.org/2000/svg\" height=\"24px\" viewBox=\"0 -960 960 960\">\n",
              "    <path d=\"M120-120v-720h720v720H120Zm60-500h600v-160H180v160Zm220 220h160v-160H400v160Zm0 220h160v-160H400v160ZM180-400h160v-160H180v160Zm440 0h160v-160H620v160ZM180-180h160v-160H180v160Zm440 0h160v-160H620v160Z\"/>\n",
              "  </svg>\n",
              "    </button>\n",
              "\n",
              "  <style>\n",
              "    .colab-df-container {\n",
              "      display:flex;\n",
              "      gap: 12px;\n",
              "    }\n",
              "\n",
              "    .colab-df-convert {\n",
              "      background-color: #E8F0FE;\n",
              "      border: none;\n",
              "      border-radius: 50%;\n",
              "      cursor: pointer;\n",
              "      display: none;\n",
              "      fill: #1967D2;\n",
              "      height: 32px;\n",
              "      padding: 0 0 0 0;\n",
              "      width: 32px;\n",
              "    }\n",
              "\n",
              "    .colab-df-convert:hover {\n",
              "      background-color: #E2EBFA;\n",
              "      box-shadow: 0px 1px 2px rgba(60, 64, 67, 0.3), 0px 1px 3px 1px rgba(60, 64, 67, 0.15);\n",
              "      fill: #174EA6;\n",
              "    }\n",
              "\n",
              "    .colab-df-buttons div {\n",
              "      margin-bottom: 4px;\n",
              "    }\n",
              "\n",
              "    [theme=dark] .colab-df-convert {\n",
              "      background-color: #3B4455;\n",
              "      fill: #D2E3FC;\n",
              "    }\n",
              "\n",
              "    [theme=dark] .colab-df-convert:hover {\n",
              "      background-color: #434B5C;\n",
              "      box-shadow: 0px 1px 3px 1px rgba(0, 0, 0, 0.15);\n",
              "      filter: drop-shadow(0px 1px 2px rgba(0, 0, 0, 0.3));\n",
              "      fill: #FFFFFF;\n",
              "    }\n",
              "  </style>\n",
              "\n",
              "    <script>\n",
              "      const buttonEl =\n",
              "        document.querySelector('#df-52f87f86-afc7-4ab1-8297-970e9820cafb button.colab-df-convert');\n",
              "      buttonEl.style.display =\n",
              "        google.colab.kernel.accessAllowed ? 'block' : 'none';\n",
              "\n",
              "      async function convertToInteractive(key) {\n",
              "        const element = document.querySelector('#df-52f87f86-afc7-4ab1-8297-970e9820cafb');\n",
              "        const dataTable =\n",
              "          await google.colab.kernel.invokeFunction('convertToInteractive',\n",
              "                                                    [key], {});\n",
              "        if (!dataTable) return;\n",
              "\n",
              "        const docLinkHtml = 'Like what you see? Visit the ' +\n",
              "          '<a target=\"_blank\" href=https://colab.research.google.com/notebooks/data_table.ipynb>data table notebook</a>'\n",
              "          + ' to learn more about interactive tables.';\n",
              "        element.innerHTML = '';\n",
              "        dataTable['output_type'] = 'display_data';\n",
              "        await google.colab.output.renderOutput(dataTable, element);\n",
              "        const docLink = document.createElement('div');\n",
              "        docLink.innerHTML = docLinkHtml;\n",
              "        element.appendChild(docLink);\n",
              "      }\n",
              "    </script>\n",
              "  </div>\n",
              "\n",
              "\n",
              "<div id=\"df-1c1a988f-fed0-4371-a397-94832f8f5a6b\">\n",
              "  <button class=\"colab-df-quickchart\" onclick=\"quickchart('df-1c1a988f-fed0-4371-a397-94832f8f5a6b')\"\n",
              "            title=\"Suggest charts\"\n",
              "            style=\"display:none;\">\n",
              "\n",
              "<svg xmlns=\"http://www.w3.org/2000/svg\" height=\"24px\"viewBox=\"0 0 24 24\"\n",
              "     width=\"24px\">\n",
              "    <g>\n",
              "        <path d=\"M19 3H5c-1.1 0-2 .9-2 2v14c0 1.1.9 2 2 2h14c1.1 0 2-.9 2-2V5c0-1.1-.9-2-2-2zM9 17H7v-7h2v7zm4 0h-2V7h2v10zm4 0h-2v-4h2v4z\"/>\n",
              "    </g>\n",
              "</svg>\n",
              "  </button>\n",
              "\n",
              "<style>\n",
              "  .colab-df-quickchart {\n",
              "      --bg-color: #E8F0FE;\n",
              "      --fill-color: #1967D2;\n",
              "      --hover-bg-color: #E2EBFA;\n",
              "      --hover-fill-color: #174EA6;\n",
              "      --disabled-fill-color: #AAA;\n",
              "      --disabled-bg-color: #DDD;\n",
              "  }\n",
              "\n",
              "  [theme=dark] .colab-df-quickchart {\n",
              "      --bg-color: #3B4455;\n",
              "      --fill-color: #D2E3FC;\n",
              "      --hover-bg-color: #434B5C;\n",
              "      --hover-fill-color: #FFFFFF;\n",
              "      --disabled-bg-color: #3B4455;\n",
              "      --disabled-fill-color: #666;\n",
              "  }\n",
              "\n",
              "  .colab-df-quickchart {\n",
              "    background-color: var(--bg-color);\n",
              "    border: none;\n",
              "    border-radius: 50%;\n",
              "    cursor: pointer;\n",
              "    display: none;\n",
              "    fill: var(--fill-color);\n",
              "    height: 32px;\n",
              "    padding: 0;\n",
              "    width: 32px;\n",
              "  }\n",
              "\n",
              "  .colab-df-quickchart:hover {\n",
              "    background-color: var(--hover-bg-color);\n",
              "    box-shadow: 0 1px 2px rgba(60, 64, 67, 0.3), 0 1px 3px 1px rgba(60, 64, 67, 0.15);\n",
              "    fill: var(--button-hover-fill-color);\n",
              "  }\n",
              "\n",
              "  .colab-df-quickchart-complete:disabled,\n",
              "  .colab-df-quickchart-complete:disabled:hover {\n",
              "    background-color: var(--disabled-bg-color);\n",
              "    fill: var(--disabled-fill-color);\n",
              "    box-shadow: none;\n",
              "  }\n",
              "\n",
              "  .colab-df-spinner {\n",
              "    border: 2px solid var(--fill-color);\n",
              "    border-color: transparent;\n",
              "    border-bottom-color: var(--fill-color);\n",
              "    animation:\n",
              "      spin 1s steps(1) infinite;\n",
              "  }\n",
              "\n",
              "  @keyframes spin {\n",
              "    0% {\n",
              "      border-color: transparent;\n",
              "      border-bottom-color: var(--fill-color);\n",
              "      border-left-color: var(--fill-color);\n",
              "    }\n",
              "    20% {\n",
              "      border-color: transparent;\n",
              "      border-left-color: var(--fill-color);\n",
              "      border-top-color: var(--fill-color);\n",
              "    }\n",
              "    30% {\n",
              "      border-color: transparent;\n",
              "      border-left-color: var(--fill-color);\n",
              "      border-top-color: var(--fill-color);\n",
              "      border-right-color: var(--fill-color);\n",
              "    }\n",
              "    40% {\n",
              "      border-color: transparent;\n",
              "      border-right-color: var(--fill-color);\n",
              "      border-top-color: var(--fill-color);\n",
              "    }\n",
              "    60% {\n",
              "      border-color: transparent;\n",
              "      border-right-color: var(--fill-color);\n",
              "    }\n",
              "    80% {\n",
              "      border-color: transparent;\n",
              "      border-right-color: var(--fill-color);\n",
              "      border-bottom-color: var(--fill-color);\n",
              "    }\n",
              "    90% {\n",
              "      border-color: transparent;\n",
              "      border-bottom-color: var(--fill-color);\n",
              "    }\n",
              "  }\n",
              "</style>\n",
              "\n",
              "  <script>\n",
              "    async function quickchart(key) {\n",
              "      const quickchartButtonEl =\n",
              "        document.querySelector('#' + key + ' button');\n",
              "      quickchartButtonEl.disabled = true;  // To prevent multiple clicks.\n",
              "      quickchartButtonEl.classList.add('colab-df-spinner');\n",
              "      try {\n",
              "        const charts = await google.colab.kernel.invokeFunction(\n",
              "            'suggestCharts', [key], {});\n",
              "      } catch (error) {\n",
              "        console.error('Error during call to suggestCharts:', error);\n",
              "      }\n",
              "      quickchartButtonEl.classList.remove('colab-df-spinner');\n",
              "      quickchartButtonEl.classList.add('colab-df-quickchart-complete');\n",
              "    }\n",
              "    (() => {\n",
              "      let quickchartButtonEl =\n",
              "        document.querySelector('#df-1c1a988f-fed0-4371-a397-94832f8f5a6b button');\n",
              "      quickchartButtonEl.style.display =\n",
              "        google.colab.kernel.accessAllowed ? 'block' : 'none';\n",
              "    })();\n",
              "  </script>\n",
              "</div>\n",
              "\n",
              "    </div>\n",
              "  </div>\n"
            ],
            "application/vnd.google.colaboratory.intrinsic+json": {
              "type": "dataframe"
            }
          },
          "metadata": {},
          "execution_count": 7
        }
      ]
    },
    {
      "cell_type": "code",
      "source": [
        "import pandas as pd\n",
        "from sklearn.decomposition import PCA\n",
        "from sklearn.preprocessing import StandardScaler\n",
        "from sklearn.impute import SimpleImputer\n",
        "\n",
        "# Select numerical features and drop columns with all missing values\n",
        "data_cleaned = data.select_dtypes(include=[float, int])\n",
        "data_cleaned = data_cleaned.dropna(axis=1, how='all')\n",
        "\n",
        "# Impute missing values with the mean\n",
        "imputer = SimpleImputer(strategy='mean')\n",
        "data_imputed = imputer.fit_transform(data_cleaned)\n",
        "\n",
        "# Scale the data\n",
        "scaler = StandardScaler()\n",
        "X_scaled = scaler.fit_transform(data_imputed)\n",
        "\n",
        "# Apply PCA, retaining 95% of variance\n",
        "pca = PCA(n_components=0.95)\n",
        "X_pca = pca.fit_transform(X_scaled)\n",
        "\n",
        "# Print shapes\n",
        "print(f\"Original shape: {X_scaled.shape}, Reduced shape after PCA: {X_pca.shape}\")"
      ],
      "metadata": {
        "colab": {
          "base_uri": "https://localhost:8080/"
        },
        "id": "JekXl6L6s105",
        "outputId": "6c2c21db-d9ba-4a1e-cf44-497b007905e2"
      },
      "execution_count": null,
      "outputs": [
        {
          "output_type": "stream",
          "name": "stdout",
          "text": [
            "Original shape: (832, 272), Reduced shape after PCA: (832, 38)\n"
          ]
        }
      ]
    },
    {
      "cell_type": "code",
      "source": [
        "selected_columns = [\n",
        "    'AT_solar_generation_actual', 'ES_solar_generation_actual',\n",
        "    'FR_solar_generation_actual', 'DK_solar_generation_actual', 'BE_solar_generation_actual',\n",
        "\n",
        "    'AT_wind_onshore_generation_actual',\n",
        "    'DE_wind_offshore_generation_actual', 'DK_wind_onshore_generation_actual',\n",
        "    'DK_wind_offshore_generation_actual', 'BE_wind_onshore_generation_actual',\n",
        "    'ES_wind_onshore_generation_actual',\n",
        "\n",
        "    'DE_solar_capacity', 'DE_wind_onshore_capacity', 'DE_wind_offshore_capacity',\n",
        "    'DK_wind_onshore_capacity', 'DK_wind_offshore_capacity',\n",
        "\n",
        "    'AT_load_actual_entsoe_transparency', 'DE_load_actual_entsoe_transparency',\n",
        "    'ES_load_actual_entsoe_transparency', 'FR_load_actual_entsoe_transparency',\n",
        "    'DK_load_actual_entsoe_transparency', 'BE_load_actual_entsoe_transparency'\n",
        "]"
      ],
      "metadata": {
        "id": "1TeDg9B-pHfg"
      },
      "execution_count": null,
      "outputs": []
    },
    {
      "cell_type": "code",
      "source": [
        "target_columns = ['DE_solar_generation_actual', 'DE_wind_onshore_generation_actual']"
      ],
      "metadata": {
        "id": "cah3KhTdpUd8"
      },
      "execution_count": null,
      "outputs": []
    },
    {
      "cell_type": "code",
      "source": [
        "X = data[selected_columns]\n",
        "y = data[target_columns]"
      ],
      "metadata": {
        "id": "jaq842lppWfZ"
      },
      "execution_count": null,
      "outputs": []
    },
    {
      "cell_type": "code",
      "source": [
        "X.fillna(X.mean(), inplace=True)\n",
        "y.fillna(y.mean(), inplace=True)"
      ],
      "metadata": {
        "colab": {
          "base_uri": "https://localhost:8080/"
        },
        "id": "IOyt9hQ4pYEy",
        "outputId": "c6fd30de-f106-42f3-8f89-0cf2279e622e"
      },
      "execution_count": null,
      "outputs": [
        {
          "output_type": "stream",
          "name": "stderr",
          "text": [
            "<ipython-input-12-dcfa16c93e41>:1: SettingWithCopyWarning: \n",
            "A value is trying to be set on a copy of a slice from a DataFrame\n",
            "\n",
            "See the caveats in the documentation: https://pandas.pydata.org/pandas-docs/stable/user_guide/indexing.html#returning-a-view-versus-a-copy\n",
            "  X.fillna(X.mean(), inplace=True)\n",
            "<ipython-input-12-dcfa16c93e41>:2: SettingWithCopyWarning: \n",
            "A value is trying to be set on a copy of a slice from a DataFrame\n",
            "\n",
            "See the caveats in the documentation: https://pandas.pydata.org/pandas-docs/stable/user_guide/indexing.html#returning-a-view-versus-a-copy\n",
            "  y.fillna(y.mean(), inplace=True)\n"
          ]
        }
      ]
    },
    {
      "cell_type": "code",
      "source": [
        "scaler_X = MinMaxScaler()\n",
        "scaler_y = MinMaxScaler()"
      ],
      "metadata": {
        "id": "9MEBKFpSpae6"
      },
      "execution_count": null,
      "outputs": []
    },
    {
      "cell_type": "code",
      "source": [
        "X_scaled = scaler_X.fit_transform(X)\n",
        "y_scaled = scaler_y.fit_transform(y)"
      ],
      "metadata": {
        "id": "Y1bvNWLCpcfh"
      },
      "execution_count": null,
      "outputs": []
    },
    {
      "cell_type": "code",
      "source": [
        "X_train, X_test, y_train, y_test = train_test_split(X_scaled, y_scaled, test_size=0.2, random_state=42)"
      ],
      "metadata": {
        "id": "kSoQPcyjpeYl"
      },
      "execution_count": null,
      "outputs": []
    },
    {
      "cell_type": "code",
      "source": [
        "def residual_block(x, units):\n",
        "    shortcut = x\n",
        "    x = Dense(units, activation='relu')(x)\n",
        "    x = Dense(units)(x)\n",
        "    x = Add()([x, shortcut])  # Add the shortcut (skip connection)\n",
        "    x = tf.keras.layers.ReLU()(x)\n",
        "    return x"
      ],
      "metadata": {
        "id": "KApeKfYupiSB"
      },
      "execution_count": null,
      "outputs": []
    },
    {
      "cell_type": "code",
      "source": [
        "input_layer = Input(shape=(X_train.shape[1],))"
      ],
      "metadata": {
        "id": "8ZEaIsfMplLO"
      },
      "execution_count": null,
      "outputs": []
    },
    {
      "cell_type": "code",
      "source": [
        "x = Dense(128, activation='relu')(input_layer)\n",
        "x = residual_block(x, 128)\n",
        "x = residual_block(x, 128)"
      ],
      "metadata": {
        "id": "3s90pB4_ppZr"
      },
      "execution_count": null,
      "outputs": []
    },
    {
      "cell_type": "code",
      "source": [
        "output_layer = Dense(2, activation='linear')(x)"
      ],
      "metadata": {
        "id": "9J24xiuyprcn"
      },
      "execution_count": null,
      "outputs": []
    },
    {
      "cell_type": "code",
      "source": [
        "model = Model(inputs=input_layer, outputs=output_layer)\n",
        "model.compile(optimizer=Adam(learning_rate=0.001), loss='mse', metrics=['mae'])"
      ],
      "metadata": {
        "id": "_eRmhCNaptMJ"
      },
      "execution_count": null,
      "outputs": []
    },
    {
      "cell_type": "code",
      "source": [
        "early_stopping = EarlyStopping(monitor='val_loss', patience=10, restore_best_weights=True)\n",
        "model.summary()\n",
        "history = model.fit(X_train, y_train, epochs=150, batch_size=32, validation_split=0.2, verbose=1, callbacks=[early_stopping])"
      ],
      "metadata": {
        "colab": {
          "base_uri": "https://localhost:8080/",
          "height": 1000
        },
        "id": "YyCYhpySpvU9",
        "outputId": "00f01a1f-3dc0-4adb-f314-78261f8ec590"
      },
      "execution_count": null,
      "outputs": [
        {
          "output_type": "display_data",
          "data": {
            "text/plain": [
              "\u001b[1mModel: \"functional\"\u001b[0m\n"
            ],
            "text/html": [
              "<pre style=\"white-space:pre;overflow-x:auto;line-height:normal;font-family:Menlo,'DejaVu Sans Mono',consolas,'Courier New',monospace\"><span style=\"font-weight: bold\">Model: \"functional\"</span>\n",
              "</pre>\n"
            ]
          },
          "metadata": {}
        },
        {
          "output_type": "display_data",
          "data": {
            "text/plain": [
              "┏━━━━━━━━━━━━━━━━━━━━━━━━━━━┳━━━━━━━━━━━━━━━━━━━━━━━━┳━━━━━━━━━━━━━━━━┳━━━━━━━━━━━━━━━━━━━━━━━━┓\n",
              "┃\u001b[1m \u001b[0m\u001b[1mLayer (type)             \u001b[0m\u001b[1m \u001b[0m┃\u001b[1m \u001b[0m\u001b[1mOutput Shape          \u001b[0m\u001b[1m \u001b[0m┃\u001b[1m \u001b[0m\u001b[1m       Param #\u001b[0m\u001b[1m \u001b[0m┃\u001b[1m \u001b[0m\u001b[1mConnected to          \u001b[0m\u001b[1m \u001b[0m┃\n",
              "┡━━━━━━━━━━━━━━━━━━━━━━━━━━━╇━━━━━━━━━━━━━━━━━━━━━━━━╇━━━━━━━━━━━━━━━━╇━━━━━━━━━━━━━━━━━━━━━━━━┩\n",
              "│ input_layer (\u001b[38;5;33mInputLayer\u001b[0m)  │ (\u001b[38;5;45mNone\u001b[0m, \u001b[38;5;34m22\u001b[0m)             │              \u001b[38;5;34m0\u001b[0m │ -                      │\n",
              "├───────────────────────────┼────────────────────────┼────────────────┼────────────────────────┤\n",
              "│ dense (\u001b[38;5;33mDense\u001b[0m)             │ (\u001b[38;5;45mNone\u001b[0m, \u001b[38;5;34m128\u001b[0m)            │          \u001b[38;5;34m2,944\u001b[0m │ input_layer[\u001b[38;5;34m0\u001b[0m][\u001b[38;5;34m0\u001b[0m]      │\n",
              "├───────────────────────────┼────────────────────────┼────────────────┼────────────────────────┤\n",
              "│ dense_1 (\u001b[38;5;33mDense\u001b[0m)           │ (\u001b[38;5;45mNone\u001b[0m, \u001b[38;5;34m128\u001b[0m)            │         \u001b[38;5;34m16,512\u001b[0m │ dense[\u001b[38;5;34m0\u001b[0m][\u001b[38;5;34m0\u001b[0m]            │\n",
              "├───────────────────────────┼────────────────────────┼────────────────┼────────────────────────┤\n",
              "│ dense_2 (\u001b[38;5;33mDense\u001b[0m)           │ (\u001b[38;5;45mNone\u001b[0m, \u001b[38;5;34m128\u001b[0m)            │         \u001b[38;5;34m16,512\u001b[0m │ dense_1[\u001b[38;5;34m0\u001b[0m][\u001b[38;5;34m0\u001b[0m]          │\n",
              "├───────────────────────────┼────────────────────────┼────────────────┼────────────────────────┤\n",
              "│ add (\u001b[38;5;33mAdd\u001b[0m)                 │ (\u001b[38;5;45mNone\u001b[0m, \u001b[38;5;34m128\u001b[0m)            │              \u001b[38;5;34m0\u001b[0m │ dense_2[\u001b[38;5;34m0\u001b[0m][\u001b[38;5;34m0\u001b[0m],         │\n",
              "│                           │                        │                │ dense[\u001b[38;5;34m0\u001b[0m][\u001b[38;5;34m0\u001b[0m]            │\n",
              "├───────────────────────────┼────────────────────────┼────────────────┼────────────────────────┤\n",
              "│ re_lu (\u001b[38;5;33mReLU\u001b[0m)              │ (\u001b[38;5;45mNone\u001b[0m, \u001b[38;5;34m128\u001b[0m)            │              \u001b[38;5;34m0\u001b[0m │ add[\u001b[38;5;34m0\u001b[0m][\u001b[38;5;34m0\u001b[0m]              │\n",
              "├───────────────────────────┼────────────────────────┼────────────────┼────────────────────────┤\n",
              "│ dense_3 (\u001b[38;5;33mDense\u001b[0m)           │ (\u001b[38;5;45mNone\u001b[0m, \u001b[38;5;34m128\u001b[0m)            │         \u001b[38;5;34m16,512\u001b[0m │ re_lu[\u001b[38;5;34m0\u001b[0m][\u001b[38;5;34m0\u001b[0m]            │\n",
              "├───────────────────────────┼────────────────────────┼────────────────┼────────────────────────┤\n",
              "│ dense_4 (\u001b[38;5;33mDense\u001b[0m)           │ (\u001b[38;5;45mNone\u001b[0m, \u001b[38;5;34m128\u001b[0m)            │         \u001b[38;5;34m16,512\u001b[0m │ dense_3[\u001b[38;5;34m0\u001b[0m][\u001b[38;5;34m0\u001b[0m]          │\n",
              "├───────────────────────────┼────────────────────────┼────────────────┼────────────────────────┤\n",
              "│ add_1 (\u001b[38;5;33mAdd\u001b[0m)               │ (\u001b[38;5;45mNone\u001b[0m, \u001b[38;5;34m128\u001b[0m)            │              \u001b[38;5;34m0\u001b[0m │ dense_4[\u001b[38;5;34m0\u001b[0m][\u001b[38;5;34m0\u001b[0m],         │\n",
              "│                           │                        │                │ re_lu[\u001b[38;5;34m0\u001b[0m][\u001b[38;5;34m0\u001b[0m]            │\n",
              "├───────────────────────────┼────────────────────────┼────────────────┼────────────────────────┤\n",
              "│ re_lu_1 (\u001b[38;5;33mReLU\u001b[0m)            │ (\u001b[38;5;45mNone\u001b[0m, \u001b[38;5;34m128\u001b[0m)            │              \u001b[38;5;34m0\u001b[0m │ add_1[\u001b[38;5;34m0\u001b[0m][\u001b[38;5;34m0\u001b[0m]            │\n",
              "├───────────────────────────┼────────────────────────┼────────────────┼────────────────────────┤\n",
              "│ dense_5 (\u001b[38;5;33mDense\u001b[0m)           │ (\u001b[38;5;45mNone\u001b[0m, \u001b[38;5;34m2\u001b[0m)              │            \u001b[38;5;34m258\u001b[0m │ re_lu_1[\u001b[38;5;34m0\u001b[0m][\u001b[38;5;34m0\u001b[0m]          │\n",
              "└───────────────────────────┴────────────────────────┴────────────────┴────────────────────────┘\n"
            ],
            "text/html": [
              "<pre style=\"white-space:pre;overflow-x:auto;line-height:normal;font-family:Menlo,'DejaVu Sans Mono',consolas,'Courier New',monospace\">┏━━━━━━━━━━━━━━━━━━━━━━━━━━━┳━━━━━━━━━━━━━━━━━━━━━━━━┳━━━━━━━━━━━━━━━━┳━━━━━━━━━━━━━━━━━━━━━━━━┓\n",
              "┃<span style=\"font-weight: bold\"> Layer (type)              </span>┃<span style=\"font-weight: bold\"> Output Shape           </span>┃<span style=\"font-weight: bold\">        Param # </span>┃<span style=\"font-weight: bold\"> Connected to           </span>┃\n",
              "┡━━━━━━━━━━━━━━━━━━━━━━━━━━━╇━━━━━━━━━━━━━━━━━━━━━━━━╇━━━━━━━━━━━━━━━━╇━━━━━━━━━━━━━━━━━━━━━━━━┩\n",
              "│ input_layer (<span style=\"color: #0087ff; text-decoration-color: #0087ff\">InputLayer</span>)  │ (<span style=\"color: #00d7ff; text-decoration-color: #00d7ff\">None</span>, <span style=\"color: #00af00; text-decoration-color: #00af00\">22</span>)             │              <span style=\"color: #00af00; text-decoration-color: #00af00\">0</span> │ -                      │\n",
              "├───────────────────────────┼────────────────────────┼────────────────┼────────────────────────┤\n",
              "│ dense (<span style=\"color: #0087ff; text-decoration-color: #0087ff\">Dense</span>)             │ (<span style=\"color: #00d7ff; text-decoration-color: #00d7ff\">None</span>, <span style=\"color: #00af00; text-decoration-color: #00af00\">128</span>)            │          <span style=\"color: #00af00; text-decoration-color: #00af00\">2,944</span> │ input_layer[<span style=\"color: #00af00; text-decoration-color: #00af00\">0</span>][<span style=\"color: #00af00; text-decoration-color: #00af00\">0</span>]      │\n",
              "├───────────────────────────┼────────────────────────┼────────────────┼────────────────────────┤\n",
              "│ dense_1 (<span style=\"color: #0087ff; text-decoration-color: #0087ff\">Dense</span>)           │ (<span style=\"color: #00d7ff; text-decoration-color: #00d7ff\">None</span>, <span style=\"color: #00af00; text-decoration-color: #00af00\">128</span>)            │         <span style=\"color: #00af00; text-decoration-color: #00af00\">16,512</span> │ dense[<span style=\"color: #00af00; text-decoration-color: #00af00\">0</span>][<span style=\"color: #00af00; text-decoration-color: #00af00\">0</span>]            │\n",
              "├───────────────────────────┼────────────────────────┼────────────────┼────────────────────────┤\n",
              "│ dense_2 (<span style=\"color: #0087ff; text-decoration-color: #0087ff\">Dense</span>)           │ (<span style=\"color: #00d7ff; text-decoration-color: #00d7ff\">None</span>, <span style=\"color: #00af00; text-decoration-color: #00af00\">128</span>)            │         <span style=\"color: #00af00; text-decoration-color: #00af00\">16,512</span> │ dense_1[<span style=\"color: #00af00; text-decoration-color: #00af00\">0</span>][<span style=\"color: #00af00; text-decoration-color: #00af00\">0</span>]          │\n",
              "├───────────────────────────┼────────────────────────┼────────────────┼────────────────────────┤\n",
              "│ add (<span style=\"color: #0087ff; text-decoration-color: #0087ff\">Add</span>)                 │ (<span style=\"color: #00d7ff; text-decoration-color: #00d7ff\">None</span>, <span style=\"color: #00af00; text-decoration-color: #00af00\">128</span>)            │              <span style=\"color: #00af00; text-decoration-color: #00af00\">0</span> │ dense_2[<span style=\"color: #00af00; text-decoration-color: #00af00\">0</span>][<span style=\"color: #00af00; text-decoration-color: #00af00\">0</span>],         │\n",
              "│                           │                        │                │ dense[<span style=\"color: #00af00; text-decoration-color: #00af00\">0</span>][<span style=\"color: #00af00; text-decoration-color: #00af00\">0</span>]            │\n",
              "├───────────────────────────┼────────────────────────┼────────────────┼────────────────────────┤\n",
              "│ re_lu (<span style=\"color: #0087ff; text-decoration-color: #0087ff\">ReLU</span>)              │ (<span style=\"color: #00d7ff; text-decoration-color: #00d7ff\">None</span>, <span style=\"color: #00af00; text-decoration-color: #00af00\">128</span>)            │              <span style=\"color: #00af00; text-decoration-color: #00af00\">0</span> │ add[<span style=\"color: #00af00; text-decoration-color: #00af00\">0</span>][<span style=\"color: #00af00; text-decoration-color: #00af00\">0</span>]              │\n",
              "├───────────────────────────┼────────────────────────┼────────────────┼────────────────────────┤\n",
              "│ dense_3 (<span style=\"color: #0087ff; text-decoration-color: #0087ff\">Dense</span>)           │ (<span style=\"color: #00d7ff; text-decoration-color: #00d7ff\">None</span>, <span style=\"color: #00af00; text-decoration-color: #00af00\">128</span>)            │         <span style=\"color: #00af00; text-decoration-color: #00af00\">16,512</span> │ re_lu[<span style=\"color: #00af00; text-decoration-color: #00af00\">0</span>][<span style=\"color: #00af00; text-decoration-color: #00af00\">0</span>]            │\n",
              "├───────────────────────────┼────────────────────────┼────────────────┼────────────────────────┤\n",
              "│ dense_4 (<span style=\"color: #0087ff; text-decoration-color: #0087ff\">Dense</span>)           │ (<span style=\"color: #00d7ff; text-decoration-color: #00d7ff\">None</span>, <span style=\"color: #00af00; text-decoration-color: #00af00\">128</span>)            │         <span style=\"color: #00af00; text-decoration-color: #00af00\">16,512</span> │ dense_3[<span style=\"color: #00af00; text-decoration-color: #00af00\">0</span>][<span style=\"color: #00af00; text-decoration-color: #00af00\">0</span>]          │\n",
              "├───────────────────────────┼────────────────────────┼────────────────┼────────────────────────┤\n",
              "│ add_1 (<span style=\"color: #0087ff; text-decoration-color: #0087ff\">Add</span>)               │ (<span style=\"color: #00d7ff; text-decoration-color: #00d7ff\">None</span>, <span style=\"color: #00af00; text-decoration-color: #00af00\">128</span>)            │              <span style=\"color: #00af00; text-decoration-color: #00af00\">0</span> │ dense_4[<span style=\"color: #00af00; text-decoration-color: #00af00\">0</span>][<span style=\"color: #00af00; text-decoration-color: #00af00\">0</span>],         │\n",
              "│                           │                        │                │ re_lu[<span style=\"color: #00af00; text-decoration-color: #00af00\">0</span>][<span style=\"color: #00af00; text-decoration-color: #00af00\">0</span>]            │\n",
              "├───────────────────────────┼────────────────────────┼────────────────┼────────────────────────┤\n",
              "│ re_lu_1 (<span style=\"color: #0087ff; text-decoration-color: #0087ff\">ReLU</span>)            │ (<span style=\"color: #00d7ff; text-decoration-color: #00d7ff\">None</span>, <span style=\"color: #00af00; text-decoration-color: #00af00\">128</span>)            │              <span style=\"color: #00af00; text-decoration-color: #00af00\">0</span> │ add_1[<span style=\"color: #00af00; text-decoration-color: #00af00\">0</span>][<span style=\"color: #00af00; text-decoration-color: #00af00\">0</span>]            │\n",
              "├───────────────────────────┼────────────────────────┼────────────────┼────────────────────────┤\n",
              "│ dense_5 (<span style=\"color: #0087ff; text-decoration-color: #0087ff\">Dense</span>)           │ (<span style=\"color: #00d7ff; text-decoration-color: #00d7ff\">None</span>, <span style=\"color: #00af00; text-decoration-color: #00af00\">2</span>)              │            <span style=\"color: #00af00; text-decoration-color: #00af00\">258</span> │ re_lu_1[<span style=\"color: #00af00; text-decoration-color: #00af00\">0</span>][<span style=\"color: #00af00; text-decoration-color: #00af00\">0</span>]          │\n",
              "└───────────────────────────┴────────────────────────┴────────────────┴────────────────────────┘\n",
              "</pre>\n"
            ]
          },
          "metadata": {}
        },
        {
          "output_type": "display_data",
          "data": {
            "text/plain": [
              "\u001b[1m Total params: \u001b[0m\u001b[38;5;34m69,250\u001b[0m (270.51 KB)\n"
            ],
            "text/html": [
              "<pre style=\"white-space:pre;overflow-x:auto;line-height:normal;font-family:Menlo,'DejaVu Sans Mono',consolas,'Courier New',monospace\"><span style=\"font-weight: bold\"> Total params: </span><span style=\"color: #00af00; text-decoration-color: #00af00\">69,250</span> (270.51 KB)\n",
              "</pre>\n"
            ]
          },
          "metadata": {}
        },
        {
          "output_type": "display_data",
          "data": {
            "text/plain": [
              "\u001b[1m Trainable params: \u001b[0m\u001b[38;5;34m69,250\u001b[0m (270.51 KB)\n"
            ],
            "text/html": [
              "<pre style=\"white-space:pre;overflow-x:auto;line-height:normal;font-family:Menlo,'DejaVu Sans Mono',consolas,'Courier New',monospace\"><span style=\"font-weight: bold\"> Trainable params: </span><span style=\"color: #00af00; text-decoration-color: #00af00\">69,250</span> (270.51 KB)\n",
              "</pre>\n"
            ]
          },
          "metadata": {}
        },
        {
          "output_type": "display_data",
          "data": {
            "text/plain": [
              "\u001b[1m Non-trainable params: \u001b[0m\u001b[38;5;34m0\u001b[0m (0.00 B)\n"
            ],
            "text/html": [
              "<pre style=\"white-space:pre;overflow-x:auto;line-height:normal;font-family:Menlo,'DejaVu Sans Mono',consolas,'Courier New',monospace\"><span style=\"font-weight: bold\"> Non-trainable params: </span><span style=\"color: #00af00; text-decoration-color: #00af00\">0</span> (0.00 B)\n",
              "</pre>\n"
            ]
          },
          "metadata": {}
        },
        {
          "output_type": "stream",
          "name": "stdout",
          "text": [
            "Epoch 1/150\n",
            "\u001b[1m17/17\u001b[0m \u001b[32m━━━━━━━━━━━━━━━━━━━━\u001b[0m\u001b[37m\u001b[0m \u001b[1m4s\u001b[0m 18ms/step - loss: 0.2168 - mae: 0.3047 - val_loss: 0.0285 - val_mae: 0.1218\n",
            "Epoch 2/150\n",
            "\u001b[1m17/17\u001b[0m \u001b[32m━━━━━━━━━━━━━━━━━━━━\u001b[0m\u001b[37m\u001b[0m \u001b[1m0s\u001b[0m 5ms/step - loss: 0.0227 - mae: 0.1098 - val_loss: 0.0146 - val_mae: 0.0862\n",
            "Epoch 3/150\n",
            "\u001b[1m17/17\u001b[0m \u001b[32m━━━━━━━━━━━━━━━━━━━━\u001b[0m\u001b[37m\u001b[0m \u001b[1m0s\u001b[0m 6ms/step - loss: 0.0141 - mae: 0.0855 - val_loss: 0.0097 - val_mae: 0.0739\n",
            "Epoch 4/150\n",
            "\u001b[1m17/17\u001b[0m \u001b[32m━━━━━━━━━━━━━━━━━━━━\u001b[0m\u001b[37m\u001b[0m \u001b[1m0s\u001b[0m 10ms/step - loss: 0.0102 - mae: 0.0721 - val_loss: 0.0081 - val_mae: 0.0671\n",
            "Epoch 5/150\n",
            "\u001b[1m17/17\u001b[0m \u001b[32m━━━━━━━━━━━━━━━━━━━━\u001b[0m\u001b[37m\u001b[0m \u001b[1m0s\u001b[0m 11ms/step - loss: 0.0077 - mae: 0.0605 - val_loss: 0.0072 - val_mae: 0.0628\n",
            "Epoch 6/150\n",
            "\u001b[1m17/17\u001b[0m \u001b[32m━━━━━━━━━━━━━━━━━━━━\u001b[0m\u001b[37m\u001b[0m \u001b[1m0s\u001b[0m 8ms/step - loss: 0.0075 - mae: 0.0614 - val_loss: 0.0062 - val_mae: 0.0561\n",
            "Epoch 7/150\n",
            "\u001b[1m17/17\u001b[0m \u001b[32m━━━━━━━━━━━━━━━━━━━━\u001b[0m\u001b[37m\u001b[0m \u001b[1m0s\u001b[0m 8ms/step - loss: 0.0066 - mae: 0.0575 - val_loss: 0.0058 - val_mae: 0.0573\n",
            "Epoch 8/150\n",
            "\u001b[1m17/17\u001b[0m \u001b[32m━━━━━━━━━━━━━━━━━━━━\u001b[0m\u001b[37m\u001b[0m \u001b[1m0s\u001b[0m 9ms/step - loss: 0.0050 - mae: 0.0494 - val_loss: 0.0049 - val_mae: 0.0508\n",
            "Epoch 9/150\n",
            "\u001b[1m17/17\u001b[0m \u001b[32m━━━━━━━━━━━━━━━━━━━━\u001b[0m\u001b[37m\u001b[0m \u001b[1m0s\u001b[0m 9ms/step - loss: 0.0044 - mae: 0.0468 - val_loss: 0.0048 - val_mae: 0.0482\n",
            "Epoch 10/150\n",
            "\u001b[1m17/17\u001b[0m \u001b[32m━━━━━━━━━━━━━━━━━━━━\u001b[0m\u001b[37m\u001b[0m \u001b[1m0s\u001b[0m 8ms/step - loss: 0.0043 - mae: 0.0438 - val_loss: 0.0047 - val_mae: 0.0489\n",
            "Epoch 11/150\n",
            "\u001b[1m17/17\u001b[0m \u001b[32m━━━━━━━━━━━━━━━━━━━━\u001b[0m\u001b[37m\u001b[0m \u001b[1m0s\u001b[0m 7ms/step - loss: 0.0037 - mae: 0.0421 - val_loss: 0.0041 - val_mae: 0.0450\n",
            "Epoch 12/150\n",
            "\u001b[1m17/17\u001b[0m \u001b[32m━━━━━━━━━━━━━━━━━━━━\u001b[0m\u001b[37m\u001b[0m \u001b[1m0s\u001b[0m 10ms/step - loss: 0.0031 - mae: 0.0373 - val_loss: 0.0038 - val_mae: 0.0427\n",
            "Epoch 13/150\n",
            "\u001b[1m17/17\u001b[0m \u001b[32m━━━━━━━━━━━━━━━━━━━━\u001b[0m\u001b[37m\u001b[0m \u001b[1m0s\u001b[0m 8ms/step - loss: 0.0029 - mae: 0.0369 - val_loss: 0.0037 - val_mae: 0.0417\n",
            "Epoch 14/150\n",
            "\u001b[1m17/17\u001b[0m \u001b[32m━━━━━━━━━━━━━━━━━━━━\u001b[0m\u001b[37m\u001b[0m \u001b[1m0s\u001b[0m 8ms/step - loss: 0.0028 - mae: 0.0356 - val_loss: 0.0037 - val_mae: 0.0437\n",
            "Epoch 15/150\n",
            "\u001b[1m17/17\u001b[0m \u001b[32m━━━━━━━━━━━━━━━━━━━━\u001b[0m\u001b[37m\u001b[0m \u001b[1m0s\u001b[0m 10ms/step - loss: 0.0028 - mae: 0.0371 - val_loss: 0.0037 - val_mae: 0.0453\n",
            "Epoch 16/150\n",
            "\u001b[1m17/17\u001b[0m \u001b[32m━━━━━━━━━━━━━━━━━━━━\u001b[0m\u001b[37m\u001b[0m \u001b[1m0s\u001b[0m 10ms/step - loss: 0.0025 - mae: 0.0356 - val_loss: 0.0032 - val_mae: 0.0402\n",
            "Epoch 17/150\n",
            "\u001b[1m17/17\u001b[0m \u001b[32m━━━━━━━━━━━━━━━━━━━━\u001b[0m\u001b[37m\u001b[0m \u001b[1m0s\u001b[0m 6ms/step - loss: 0.0020 - mae: 0.0311 - val_loss: 0.0033 - val_mae: 0.0423\n",
            "Epoch 18/150\n",
            "\u001b[1m17/17\u001b[0m \u001b[32m━━━━━━━━━━━━━━━━━━━━\u001b[0m\u001b[37m\u001b[0m \u001b[1m0s\u001b[0m 5ms/step - loss: 0.0018 - mae: 0.0297 - val_loss: 0.0030 - val_mae: 0.0369\n",
            "Epoch 19/150\n",
            "\u001b[1m17/17\u001b[0m \u001b[32m━━━━━━━━━━━━━━━━━━━━\u001b[0m\u001b[37m\u001b[0m \u001b[1m0s\u001b[0m 5ms/step - loss: 0.0020 - mae: 0.0291 - val_loss: 0.0032 - val_mae: 0.0396\n",
            "Epoch 20/150\n",
            "\u001b[1m17/17\u001b[0m \u001b[32m━━━━━━━━━━━━━━━━━━━━\u001b[0m\u001b[37m\u001b[0m \u001b[1m0s\u001b[0m 4ms/step - loss: 0.0022 - mae: 0.0311 - val_loss: 0.0031 - val_mae: 0.0396\n",
            "Epoch 21/150\n",
            "\u001b[1m17/17\u001b[0m \u001b[32m━━━━━━━━━━━━━━━━━━━━\u001b[0m\u001b[37m\u001b[0m \u001b[1m0s\u001b[0m 5ms/step - loss: 0.0014 - mae: 0.0259 - val_loss: 0.0029 - val_mae: 0.0365\n",
            "Epoch 22/150\n",
            "\u001b[1m17/17\u001b[0m \u001b[32m━━━━━━━━━━━━━━━━━━━━\u001b[0m\u001b[37m\u001b[0m \u001b[1m0s\u001b[0m 7ms/step - loss: 0.0015 - mae: 0.0253 - val_loss: 0.0027 - val_mae: 0.0355\n",
            "Epoch 23/150\n",
            "\u001b[1m17/17\u001b[0m \u001b[32m━━━━━━━━━━━━━━━━━━━━\u001b[0m\u001b[37m\u001b[0m \u001b[1m0s\u001b[0m 5ms/step - loss: 0.0017 - mae: 0.0267 - val_loss: 0.0035 - val_mae: 0.0397\n",
            "Epoch 24/150\n",
            "\u001b[1m17/17\u001b[0m \u001b[32m━━━━━━━━━━━━━━━━━━━━\u001b[0m\u001b[37m\u001b[0m \u001b[1m0s\u001b[0m 5ms/step - loss: 0.0016 - mae: 0.0266 - val_loss: 0.0030 - val_mae: 0.0382\n",
            "Epoch 25/150\n",
            "\u001b[1m17/17\u001b[0m \u001b[32m━━━━━━━━━━━━━━━━━━━━\u001b[0m\u001b[37m\u001b[0m \u001b[1m0s\u001b[0m 5ms/step - loss: 0.0016 - mae: 0.0257 - val_loss: 0.0026 - val_mae: 0.0353\n",
            "Epoch 26/150\n",
            "\u001b[1m17/17\u001b[0m \u001b[32m━━━━━━━━━━━━━━━━━━━━\u001b[0m\u001b[37m\u001b[0m \u001b[1m0s\u001b[0m 5ms/step - loss: 0.0014 - mae: 0.0244 - val_loss: 0.0024 - val_mae: 0.0321\n",
            "Epoch 27/150\n",
            "\u001b[1m17/17\u001b[0m \u001b[32m━━━━━━━━━━━━━━━━━━━━\u001b[0m\u001b[37m\u001b[0m \u001b[1m0s\u001b[0m 6ms/step - loss: 0.0011 - mae: 0.0222 - val_loss: 0.0025 - val_mae: 0.0334\n",
            "Epoch 28/150\n",
            "\u001b[1m17/17\u001b[0m \u001b[32m━━━━━━━━━━━━━━━━━━━━\u001b[0m\u001b[37m\u001b[0m \u001b[1m0s\u001b[0m 6ms/step - loss: 0.0011 - mae: 0.0225 - val_loss: 0.0024 - val_mae: 0.0329\n",
            "Epoch 29/150\n",
            "\u001b[1m17/17\u001b[0m \u001b[32m━━━━━━━━━━━━━━━━━━━━\u001b[0m\u001b[37m\u001b[0m \u001b[1m0s\u001b[0m 5ms/step - loss: 9.8941e-04 - mae: 0.0207 - val_loss: 0.0026 - val_mae: 0.0350\n",
            "Epoch 30/150\n",
            "\u001b[1m17/17\u001b[0m \u001b[32m━━━━━━━━━━━━━━━━━━━━\u001b[0m\u001b[37m\u001b[0m \u001b[1m0s\u001b[0m 6ms/step - loss: 0.0012 - mae: 0.0238 - val_loss: 0.0025 - val_mae: 0.0346\n",
            "Epoch 31/150\n",
            "\u001b[1m17/17\u001b[0m \u001b[32m━━━━━━━━━━━━━━━━━━━━\u001b[0m\u001b[37m\u001b[0m \u001b[1m0s\u001b[0m 5ms/step - loss: 0.0010 - mae: 0.0221 - val_loss: 0.0027 - val_mae: 0.0342\n",
            "Epoch 32/150\n",
            "\u001b[1m17/17\u001b[0m \u001b[32m━━━━━━━━━━━━━━━━━━━━\u001b[0m\u001b[37m\u001b[0m \u001b[1m0s\u001b[0m 6ms/step - loss: 0.0012 - mae: 0.0237 - val_loss: 0.0023 - val_mae: 0.0326\n",
            "Epoch 33/150\n",
            "\u001b[1m17/17\u001b[0m \u001b[32m━━━━━━━━━━━━━━━━━━━━\u001b[0m\u001b[37m\u001b[0m \u001b[1m0s\u001b[0m 6ms/step - loss: 9.3294e-04 - mae: 0.0197 - val_loss: 0.0024 - val_mae: 0.0328\n",
            "Epoch 34/150\n",
            "\u001b[1m17/17\u001b[0m \u001b[32m━━━━━━━━━━━━━━━━━━━━\u001b[0m\u001b[37m\u001b[0m \u001b[1m0s\u001b[0m 5ms/step - loss: 8.4906e-04 - mae: 0.0199 - val_loss: 0.0025 - val_mae: 0.0334\n",
            "Epoch 35/150\n",
            "\u001b[1m17/17\u001b[0m \u001b[32m━━━━━━━━━━━━━━━━━━━━\u001b[0m\u001b[37m\u001b[0m \u001b[1m0s\u001b[0m 5ms/step - loss: 8.0161e-04 - mae: 0.0187 - val_loss: 0.0024 - val_mae: 0.0329\n",
            "Epoch 36/150\n",
            "\u001b[1m17/17\u001b[0m \u001b[32m━━━━━━━━━━━━━━━━━━━━\u001b[0m\u001b[37m\u001b[0m \u001b[1m0s\u001b[0m 6ms/step - loss: 7.3275e-04 - mae: 0.0192 - val_loss: 0.0023 - val_mae: 0.0314\n",
            "Epoch 37/150\n",
            "\u001b[1m17/17\u001b[0m \u001b[32m━━━━━━━━━━━━━━━━━━━━\u001b[0m\u001b[37m\u001b[0m \u001b[1m0s\u001b[0m 7ms/step - loss: 7.3732e-04 - mae: 0.0183 - val_loss: 0.0022 - val_mae: 0.0306\n",
            "Epoch 38/150\n",
            "\u001b[1m17/17\u001b[0m \u001b[32m━━━━━━━━━━━━━━━━━━━━\u001b[0m\u001b[37m\u001b[0m \u001b[1m0s\u001b[0m 5ms/step - loss: 5.8501e-04 - mae: 0.0164 - val_loss: 0.0021 - val_mae: 0.0305\n",
            "Epoch 39/150\n",
            "\u001b[1m17/17\u001b[0m \u001b[32m━━━━━━━━━━━━━━━━━━━━\u001b[0m\u001b[37m\u001b[0m \u001b[1m0s\u001b[0m 5ms/step - loss: 5.5631e-04 - mae: 0.0159 - val_loss: 0.0022 - val_mae: 0.0315\n",
            "Epoch 40/150\n",
            "\u001b[1m17/17\u001b[0m \u001b[32m━━━━━━━━━━━━━━━━━━━━\u001b[0m\u001b[37m\u001b[0m \u001b[1m0s\u001b[0m 4ms/step - loss: 5.0706e-04 - mae: 0.0157 - val_loss: 0.0019 - val_mae: 0.0290\n",
            "Epoch 41/150\n",
            "\u001b[1m17/17\u001b[0m \u001b[32m━━━━━━━━━━━━━━━━━━━━\u001b[0m\u001b[37m\u001b[0m \u001b[1m0s\u001b[0m 5ms/step - loss: 5.0289e-04 - mae: 0.0162 - val_loss: 0.0020 - val_mae: 0.0305\n",
            "Epoch 42/150\n",
            "\u001b[1m17/17\u001b[0m \u001b[32m━━━━━━━━━━━━━━━━━━━━\u001b[0m\u001b[37m\u001b[0m \u001b[1m0s\u001b[0m 5ms/step - loss: 5.0970e-04 - mae: 0.0162 - val_loss: 0.0021 - val_mae: 0.0312\n",
            "Epoch 43/150\n",
            "\u001b[1m17/17\u001b[0m \u001b[32m━━━━━━━━━━━━━━━━━━━━\u001b[0m\u001b[37m\u001b[0m \u001b[1m0s\u001b[0m 4ms/step - loss: 3.7002e-04 - mae: 0.0135 - val_loss: 0.0026 - val_mae: 0.0353\n",
            "Epoch 44/150\n",
            "\u001b[1m17/17\u001b[0m \u001b[32m━━━━━━━━━━━━━━━━━━━━\u001b[0m\u001b[37m\u001b[0m \u001b[1m0s\u001b[0m 5ms/step - loss: 9.5083e-04 - mae: 0.0215 - val_loss: 0.0021 - val_mae: 0.0309\n",
            "Epoch 45/150\n",
            "\u001b[1m17/17\u001b[0m \u001b[32m━━━━━━━━━━━━━━━━━━━━\u001b[0m\u001b[37m\u001b[0m \u001b[1m0s\u001b[0m 8ms/step - loss: 6.1217e-04 - mae: 0.0173 - val_loss: 0.0020 - val_mae: 0.0286\n",
            "Epoch 46/150\n",
            "\u001b[1m17/17\u001b[0m \u001b[32m━━━━━━━━━━━━━━━━━━━━\u001b[0m\u001b[37m\u001b[0m \u001b[1m0s\u001b[0m 6ms/step - loss: 4.8338e-04 - mae: 0.0144 - val_loss: 0.0020 - val_mae: 0.0291\n",
            "Epoch 47/150\n",
            "\u001b[1m17/17\u001b[0m \u001b[32m━━━━━━━━━━━━━━━━━━━━\u001b[0m\u001b[37m\u001b[0m \u001b[1m0s\u001b[0m 5ms/step - loss: 4.2511e-04 - mae: 0.0146 - val_loss: 0.0021 - val_mae: 0.0302\n",
            "Epoch 48/150\n",
            "\u001b[1m17/17\u001b[0m \u001b[32m━━━━━━━━━━━━━━━━━━━━\u001b[0m\u001b[37m\u001b[0m \u001b[1m0s\u001b[0m 5ms/step - loss: 3.8482e-04 - mae: 0.0139 - val_loss: 0.0019 - val_mae: 0.0285\n",
            "Epoch 49/150\n",
            "\u001b[1m17/17\u001b[0m \u001b[32m━━━━━━━━━━━━━━━━━━━━\u001b[0m\u001b[37m\u001b[0m \u001b[1m0s\u001b[0m 5ms/step - loss: 4.7890e-04 - mae: 0.0146 - val_loss: 0.0018 - val_mae: 0.0275\n",
            "Epoch 50/150\n",
            "\u001b[1m17/17\u001b[0m \u001b[32m━━━━━━━━━━━━━━━━━━━━\u001b[0m\u001b[37m\u001b[0m \u001b[1m0s\u001b[0m 5ms/step - loss: 5.7561e-04 - mae: 0.0163 - val_loss: 0.0021 - val_mae: 0.0294\n",
            "Epoch 51/150\n",
            "\u001b[1m17/17\u001b[0m \u001b[32m━━━━━━━━━━━━━━━━━━━━\u001b[0m\u001b[37m\u001b[0m \u001b[1m0s\u001b[0m 5ms/step - loss: 5.4408e-04 - mae: 0.0159 - val_loss: 0.0023 - val_mae: 0.0316\n",
            "Epoch 52/150\n",
            "\u001b[1m17/17\u001b[0m \u001b[32m━━━━━━━━━━━━━━━━━━━━\u001b[0m\u001b[37m\u001b[0m \u001b[1m0s\u001b[0m 5ms/step - loss: 6.2862e-04 - mae: 0.0179 - val_loss: 0.0021 - val_mae: 0.0304\n",
            "Epoch 53/150\n",
            "\u001b[1m17/17\u001b[0m \u001b[32m━━━━━━━━━━━━━━━━━━━━\u001b[0m\u001b[37m\u001b[0m \u001b[1m0s\u001b[0m 6ms/step - loss: 5.1946e-04 - mae: 0.0165 - val_loss: 0.0020 - val_mae: 0.0302\n",
            "Epoch 54/150\n",
            "\u001b[1m17/17\u001b[0m \u001b[32m━━━━━━━━━━━━━━━━━━━━\u001b[0m\u001b[37m\u001b[0m \u001b[1m0s\u001b[0m 4ms/step - loss: 4.2219e-04 - mae: 0.0145 - val_loss: 0.0018 - val_mae: 0.0281\n",
            "Epoch 55/150\n",
            "\u001b[1m17/17\u001b[0m \u001b[32m━━━━━━━━━━━━━━━━━━━━\u001b[0m\u001b[37m\u001b[0m \u001b[1m0s\u001b[0m 5ms/step - loss: 3.4936e-04 - mae: 0.0133 - val_loss: 0.0019 - val_mae: 0.0282\n",
            "Epoch 56/150\n",
            "\u001b[1m17/17\u001b[0m \u001b[32m━━━━━━━━━━━━━━━━━━━━\u001b[0m\u001b[37m\u001b[0m \u001b[1m0s\u001b[0m 4ms/step - loss: 3.8689e-04 - mae: 0.0142 - val_loss: 0.0019 - val_mae: 0.0276\n",
            "Epoch 57/150\n",
            "\u001b[1m17/17\u001b[0m \u001b[32m━━━━━━━━━━━━━━━━━━━━\u001b[0m\u001b[37m\u001b[0m \u001b[1m0s\u001b[0m 6ms/step - loss: 4.6689e-04 - mae: 0.0152 - val_loss: 0.0017 - val_mae: 0.0271\n",
            "Epoch 58/150\n",
            "\u001b[1m17/17\u001b[0m \u001b[32m━━━━━━━━━━━━━━━━━━━━\u001b[0m\u001b[37m\u001b[0m \u001b[1m0s\u001b[0m 5ms/step - loss: 3.1202e-04 - mae: 0.0129 - val_loss: 0.0017 - val_mae: 0.0267\n",
            "Epoch 59/150\n",
            "\u001b[1m17/17\u001b[0m \u001b[32m━━━━━━━━━━━━━━━━━━━━\u001b[0m\u001b[37m\u001b[0m \u001b[1m0s\u001b[0m 5ms/step - loss: 2.4814e-04 - mae: 0.0111 - val_loss: 0.0016 - val_mae: 0.0262\n",
            "Epoch 60/150\n",
            "\u001b[1m17/17\u001b[0m \u001b[32m━━━━━━━━━━━━━━━━━━━━\u001b[0m\u001b[37m\u001b[0m \u001b[1m0s\u001b[0m 6ms/step - loss: 2.4147e-04 - mae: 0.0110 - val_loss: 0.0017 - val_mae: 0.0262\n",
            "Epoch 61/150\n",
            "\u001b[1m17/17\u001b[0m \u001b[32m━━━━━━━━━━━━━━━━━━━━\u001b[0m\u001b[37m\u001b[0m \u001b[1m0s\u001b[0m 4ms/step - loss: 3.0003e-04 - mae: 0.0120 - val_loss: 0.0019 - val_mae: 0.0284\n",
            "Epoch 62/150\n",
            "\u001b[1m17/17\u001b[0m \u001b[32m━━━━━━━━━━━━━━━━━━━━\u001b[0m\u001b[37m\u001b[0m \u001b[1m0s\u001b[0m 5ms/step - loss: 2.3641e-04 - mae: 0.0110 - val_loss: 0.0017 - val_mae: 0.0265\n",
            "Epoch 63/150\n",
            "\u001b[1m17/17\u001b[0m \u001b[32m━━━━━━━━━━━━━━━━━━━━\u001b[0m\u001b[37m\u001b[0m \u001b[1m0s\u001b[0m 6ms/step - loss: 3.0609e-04 - mae: 0.0128 - val_loss: 0.0017 - val_mae: 0.0265\n",
            "Epoch 64/150\n",
            "\u001b[1m17/17\u001b[0m \u001b[32m━━━━━━━━━━━━━━━━━━━━\u001b[0m\u001b[37m\u001b[0m \u001b[1m0s\u001b[0m 5ms/step - loss: 2.7281e-04 - mae: 0.0118 - val_loss: 0.0016 - val_mae: 0.0263\n",
            "Epoch 65/150\n",
            "\u001b[1m17/17\u001b[0m \u001b[32m━━━━━━━━━━━━━━━━━━━━\u001b[0m\u001b[37m\u001b[0m \u001b[1m0s\u001b[0m 4ms/step - loss: 1.9302e-04 - mae: 0.0099 - val_loss: 0.0017 - val_mae: 0.0279\n",
            "Epoch 66/150\n",
            "\u001b[1m17/17\u001b[0m \u001b[32m━━━━━━━━━━━━━━━━━━━━\u001b[0m\u001b[37m\u001b[0m \u001b[1m0s\u001b[0m 5ms/step - loss: 2.9510e-04 - mae: 0.0121 - val_loss: 0.0017 - val_mae: 0.0270\n",
            "Epoch 67/150\n",
            "\u001b[1m17/17\u001b[0m \u001b[32m━━━━━━━━━━━━━━━━━━━━\u001b[0m\u001b[37m\u001b[0m \u001b[1m0s\u001b[0m 7ms/step - loss: 2.6093e-04 - mae: 0.0115 - val_loss: 0.0017 - val_mae: 0.0277\n",
            "Epoch 68/150\n",
            "\u001b[1m17/17\u001b[0m \u001b[32m━━━━━━━━━━━━━━━━━━━━\u001b[0m\u001b[37m\u001b[0m \u001b[1m0s\u001b[0m 4ms/step - loss: 2.9299e-04 - mae: 0.0130 - val_loss: 0.0016 - val_mae: 0.0259\n",
            "Epoch 69/150\n",
            "\u001b[1m17/17\u001b[0m \u001b[32m━━━━━━━━━━━━━━━━━━━━\u001b[0m\u001b[37m\u001b[0m \u001b[1m0s\u001b[0m 5ms/step - loss: 2.8244e-04 - mae: 0.0127 - val_loss: 0.0018 - val_mae: 0.0277\n"
          ]
        }
      ]
    },
    {
      "cell_type": "code",
      "source": [
        "from sklearn.metrics import mean_squared_error, mean_absolute_error, r2_score\n",
        "import numpy as np"
      ],
      "metadata": {
        "id": "W3DHIGgyp3rq"
      },
      "execution_count": null,
      "outputs": []
    },
    {
      "cell_type": "code",
      "source": [
        "y_pred_scaled = model.predict(X_test)"
      ],
      "metadata": {
        "colab": {
          "base_uri": "https://localhost:8080/"
        },
        "id": "lSP1fua2p8OT",
        "outputId": "e26fb0e2-f75e-4722-f72f-e8fa8c337823"
      },
      "execution_count": null,
      "outputs": [
        {
          "output_type": "stream",
          "name": "stdout",
          "text": [
            "\u001b[1m6/6\u001b[0m \u001b[32m━━━━━━━━━━━━━━━━━━━━\u001b[0m\u001b[37m\u001b[0m \u001b[1m0s\u001b[0m 14ms/step\n"
          ]
        }
      ]
    },
    {
      "cell_type": "code",
      "source": [
        "y_pred = scaler_y.inverse_transform(y_pred_scaled)\n",
        "y_test_original = scaler_y.inverse_transform(y_test)"
      ],
      "metadata": {
        "id": "bcXfIo6Np96M"
      },
      "execution_count": null,
      "outputs": []
    },
    {
      "cell_type": "code",
      "source": [
        "r2 = r2_score(y_test_original, y_pred)\n",
        "print(f\"R-squared (R²) score: {r2}\")"
      ],
      "metadata": {
        "colab": {
          "base_uri": "https://localhost:8080/"
        },
        "id": "Dg3qS8GBp_5e",
        "outputId": "32f525f1-a69a-4384-a8c0-9b7d3856047e"
      },
      "execution_count": null,
      "outputs": [
        {
          "output_type": "stream",
          "name": "stdout",
          "text": [
            "R-squared (R²) score: 0.9745140705745421\n"
          ]
        }
      ]
    },
    {
      "cell_type": "code",
      "source": [
        "model.save('ResNet.h5')\n",
        "\n",
        "import joblib\n",
        "joblib.dump(scaler_X, 'scaler_X.pkl')\n",
        "joblib.dump(scaler_y, 'scaler_y.pkl')"
      ],
      "metadata": {
        "colab": {
          "base_uri": "https://localhost:8080/"
        },
        "id": "eQCpc11FqEHa",
        "outputId": "d576dc6b-5d4c-4ff4-e2f9-31afd982270c"
      },
      "execution_count": null,
      "outputs": [
        {
          "output_type": "stream",
          "name": "stderr",
          "text": [
            "WARNING:absl:You are saving your model as an HDF5 file via `model.save()` or `keras.saving.save_model(model)`. This file format is considered legacy. We recommend using instead the native Keras format, e.g. `model.save('my_model.keras')` or `keras.saving.save_model(model, 'my_model.keras')`. \n"
          ]
        },
        {
          "output_type": "execute_result",
          "data": {
            "text/plain": [
              "['scaler_y.pkl']"
            ]
          },
          "metadata": {},
          "execution_count": 26
        }
      ]
    },
    {
      "cell_type": "code",
      "source": [
        "model.save('D:\\FP\\ResNet.h5')\n",
        "import joblib"
      ],
      "metadata": {
        "colab": {
          "base_uri": "https://localhost:8080/"
        },
        "id": "8CK9yjLHqJHr",
        "outputId": "87013a6a-6a79-418a-d5bc-664c71aa1382"
      },
      "execution_count": null,
      "outputs": [
        {
          "output_type": "stream",
          "name": "stderr",
          "text": [
            "WARNING:absl:You are saving your model as an HDF5 file via `model.save()` or `keras.saving.save_model(model)`. This file format is considered legacy. We recommend using instead the native Keras format, e.g. `model.save('my_model.keras')` or `keras.saving.save_model(model, 'my_model.keras')`. \n"
          ]
        }
      ]
    },
    {
      "cell_type": "code",
      "source": [
        "joblib.dump(scaler_X, 'D:\\FP\\scaler_X.pkl')\n",
        "joblib.dump(scaler_y, 'D:\\FP\\scaler_y.pkl')"
      ],
      "metadata": {
        "colab": {
          "base_uri": "https://localhost:8080/"
        },
        "id": "QTL_dU6nqP3P",
        "outputId": "4d403809-f241-4323-e3ff-434bade54a87"
      },
      "execution_count": null,
      "outputs": [
        {
          "output_type": "execute_result",
          "data": {
            "text/plain": [
              "['D:\\\\FP\\\\scaler_y.pkl']"
            ]
          },
          "metadata": {},
          "execution_count": 28
        }
      ]
    },
    {
      "cell_type": "code",
      "source": [
        "from google.colab import files\n",
        "files.download('ResNet.h5')\n",
        "files.download('scaler_X.pkl')\n",
        "files.download('scaler_y.pkl')"
      ],
      "metadata": {
        "colab": {
          "base_uri": "https://localhost:8080/",
          "height": 17
        },
        "id": "EEG_0eZKqWO-",
        "outputId": "1705e041-e19b-4f0f-f71a-3188b532bb37"
      },
      "execution_count": null,
      "outputs": [
        {
          "output_type": "display_data",
          "data": {
            "text/plain": [
              "<IPython.core.display.Javascript object>"
            ],
            "application/javascript": [
              "\n",
              "    async function download(id, filename, size) {\n",
              "      if (!google.colab.kernel.accessAllowed) {\n",
              "        return;\n",
              "      }\n",
              "      const div = document.createElement('div');\n",
              "      const label = document.createElement('label');\n",
              "      label.textContent = `Downloading \"${filename}\": `;\n",
              "      div.appendChild(label);\n",
              "      const progress = document.createElement('progress');\n",
              "      progress.max = size;\n",
              "      div.appendChild(progress);\n",
              "      document.body.appendChild(div);\n",
              "\n",
              "      const buffers = [];\n",
              "      let downloaded = 0;\n",
              "\n",
              "      const channel = await google.colab.kernel.comms.open(id);\n",
              "      // Send a message to notify the kernel that we're ready.\n",
              "      channel.send({})\n",
              "\n",
              "      for await (const message of channel.messages) {\n",
              "        // Send a message to notify the kernel that we're ready.\n",
              "        channel.send({})\n",
              "        if (message.buffers) {\n",
              "          for (const buffer of message.buffers) {\n",
              "            buffers.push(buffer);\n",
              "            downloaded += buffer.byteLength;\n",
              "            progress.value = downloaded;\n",
              "          }\n",
              "        }\n",
              "      }\n",
              "      const blob = new Blob(buffers, {type: 'application/binary'});\n",
              "      const a = document.createElement('a');\n",
              "      a.href = window.URL.createObjectURL(blob);\n",
              "      a.download = filename;\n",
              "      div.appendChild(a);\n",
              "      a.click();\n",
              "      div.remove();\n",
              "    }\n",
              "  "
            ]
          },
          "metadata": {}
        },
        {
          "output_type": "display_data",
          "data": {
            "text/plain": [
              "<IPython.core.display.Javascript object>"
            ],
            "application/javascript": [
              "download(\"download_6a4546c6-338d-40dd-a9f4-3d3a86450e15\", \"ResNet.h5\", 882168)"
            ]
          },
          "metadata": {}
        },
        {
          "output_type": "display_data",
          "data": {
            "text/plain": [
              "<IPython.core.display.Javascript object>"
            ],
            "application/javascript": [
              "\n",
              "    async function download(id, filename, size) {\n",
              "      if (!google.colab.kernel.accessAllowed) {\n",
              "        return;\n",
              "      }\n",
              "      const div = document.createElement('div');\n",
              "      const label = document.createElement('label');\n",
              "      label.textContent = `Downloading \"${filename}\": `;\n",
              "      div.appendChild(label);\n",
              "      const progress = document.createElement('progress');\n",
              "      progress.max = size;\n",
              "      div.appendChild(progress);\n",
              "      document.body.appendChild(div);\n",
              "\n",
              "      const buffers = [];\n",
              "      let downloaded = 0;\n",
              "\n",
              "      const channel = await google.colab.kernel.comms.open(id);\n",
              "      // Send a message to notify the kernel that we're ready.\n",
              "      channel.send({})\n",
              "\n",
              "      for await (const message of channel.messages) {\n",
              "        // Send a message to notify the kernel that we're ready.\n",
              "        channel.send({})\n",
              "        if (message.buffers) {\n",
              "          for (const buffer of message.buffers) {\n",
              "            buffers.push(buffer);\n",
              "            downloaded += buffer.byteLength;\n",
              "            progress.value = downloaded;\n",
              "          }\n",
              "        }\n",
              "      }\n",
              "      const blob = new Blob(buffers, {type: 'application/binary'});\n",
              "      const a = document.createElement('a');\n",
              "      a.href = window.URL.createObjectURL(blob);\n",
              "      a.download = filename;\n",
              "      div.appendChild(a);\n",
              "      a.click();\n",
              "      div.remove();\n",
              "    }\n",
              "  "
            ]
          },
          "metadata": {}
        },
        {
          "output_type": "display_data",
          "data": {
            "text/plain": [
              "<IPython.core.display.Javascript object>"
            ],
            "application/javascript": [
              "download(\"download_a90d3328-27fd-4cc2-943e-42c6f9278a93\", \"scaler_X.pkl\", 2647)"
            ]
          },
          "metadata": {}
        },
        {
          "output_type": "display_data",
          "data": {
            "text/plain": [
              "<IPython.core.display.Javascript object>"
            ],
            "application/javascript": [
              "\n",
              "    async function download(id, filename, size) {\n",
              "      if (!google.colab.kernel.accessAllowed) {\n",
              "        return;\n",
              "      }\n",
              "      const div = document.createElement('div');\n",
              "      const label = document.createElement('label');\n",
              "      label.textContent = `Downloading \"${filename}\": `;\n",
              "      div.appendChild(label);\n",
              "      const progress = document.createElement('progress');\n",
              "      progress.max = size;\n",
              "      div.appendChild(progress);\n",
              "      document.body.appendChild(div);\n",
              "\n",
              "      const buffers = [];\n",
              "      let downloaded = 0;\n",
              "\n",
              "      const channel = await google.colab.kernel.comms.open(id);\n",
              "      // Send a message to notify the kernel that we're ready.\n",
              "      channel.send({})\n",
              "\n",
              "      for await (const message of channel.messages) {\n",
              "        // Send a message to notify the kernel that we're ready.\n",
              "        channel.send({})\n",
              "        if (message.buffers) {\n",
              "          for (const buffer of message.buffers) {\n",
              "            buffers.push(buffer);\n",
              "            downloaded += buffer.byteLength;\n",
              "            progress.value = downloaded;\n",
              "          }\n",
              "        }\n",
              "      }\n",
              "      const blob = new Blob(buffers, {type: 'application/binary'});\n",
              "      const a = document.createElement('a');\n",
              "      a.href = window.URL.createObjectURL(blob);\n",
              "      a.download = filename;\n",
              "      div.appendChild(a);\n",
              "      a.click();\n",
              "      div.remove();\n",
              "    }\n",
              "  "
            ]
          },
          "metadata": {}
        },
        {
          "output_type": "display_data",
          "data": {
            "text/plain": [
              "<IPython.core.display.Javascript object>"
            ],
            "application/javascript": [
              "download(\"download_efc5cf2c-25ad-48bf-8863-0e35aef5c899\", \"scaler_y.pkl\", 1111)"
            ]
          },
          "metadata": {}
        }
      ]
    },
    {
      "cell_type": "code",
      "source": [
        "import matplotlib.pyplot as plt\n",
        "import seaborn as sns\n",
        "from sklearn.metrics import classification_report, confusion_matrix, roc_curve, auc"
      ],
      "metadata": {
        "id": "XeGo7YRiqY5a"
      },
      "execution_count": null,
      "outputs": []
    },
    {
      "cell_type": "code",
      "source": [
        "plt.figure(figsize=(10, 6))\n",
        "plt.scatter(y_test_original[:, 0], y_pred[:, 0], label='Solar Generation', alpha=0.5)\n",
        "plt.scatter(y_test_original[:, 1], y_pred[:, 1], label='Wind Generation', alpha=0.5)\n",
        "plt.plot([y_test_original[:, 0].min(), y_test_original[:, 0].max()],\n",
        "         [y_test_original[:, 0].min(), y_test_original[:, 0].max()], 'k--', lw=2)\n",
        "plt.title('Predicted vs Actual Values')\n",
        "plt.xlabel('Actual Values')\n",
        "plt.ylabel('Predicted Values')\n",
        "plt.legend()\n",
        "plt.grid()\n",
        "plt.show()"
      ],
      "metadata": {
        "colab": {
          "base_uri": "https://localhost:8080/",
          "height": 564
        },
        "id": "INuen3RArjED",
        "outputId": "931f545f-b312-4ee5-b2da-0fcb7385dfed"
      },
      "execution_count": null,
      "outputs": [
        {
          "output_type": "display_data",
          "data": {
            "text/plain": [
              "<Figure size 1000x600 with 1 Axes>"
            ],
            "image/png": "[encoded data removed]"
          },
          "metadata": {}
        }
      ]
    },
    {
      "cell_type": "code",
      "source": [
        "plt.figure(figsize=(10, 6))\n",
        "plt.plot(history.history['mae'], label='Training MAE')\n",
        "plt.plot(history.history['val_mae'], label='Validation MAE')\n",
        "plt.title('Training and Validation MAE Over Epochs')\n",
        "plt.xlabel('Epochs')\n",
        "plt.ylabel('Mean Absolute Error')\n",
        "plt.legend()\n",
        "plt.grid()\n",
        "plt.show()"
      ],
      "metadata": {
        "colab": {
          "base_uri": "https://localhost:8080/",
          "height": 564
        },
        "id": "5hOzlgfcrmxU",
        "outputId": "f86da648-ab04-4863-dcda-bce5b6e544f9"
      },
      "execution_count": null,
      "outputs": [
        {
          "output_type": "display_data",
          "data": {
            "text/plain": [
              "<Figure size 1000x600 with 1 Axes>"
            ],
            "image/png": "[encoded data removed]"
          },
          "metadata": {}
        }
      ]
    },
    {
      "cell_type": "code",
      "source": [
        "# Define the threshold for classification\n",
        "threshold = 0.5\n",
        "\n",
        "# Convert predictions and actual values to binary for both targets\n",
        "y_pred_class_0 = (y_pred[:, 0] > threshold).astype(int)  # Solar generation\n",
        "y_pred_class_1 = (y_pred[:, 1] > threshold).astype(int)  # Wind generation\n",
        "\n",
        "y_test_class_0 = (y_test_original[:, 0] > threshold).astype(int)  # Actual solar generation\n",
        "y_test_class_1 = (y_test_original[:, 1] > threshold).astype(int)  # Actual wind generation\n",
        "\n",
        "# Confusion Matrix for Solar Generation\n",
        "conf_matrix_solar = confusion_matrix(y_test_class_0, y_pred_class_0)\n",
        "plt.figure(figsize=(8, 6))\n",
        "sns.heatmap(conf_matrix_solar, annot=True, fmt='d', cmap='Blues')\n",
        "plt.title('Confusion Matrix for ResNet')\n",
        "plt.xlabel('Predicted')\n",
        "plt.ylabel('Actual')\n",
        "plt.show()"
      ],
      "metadata": {
        "colab": {
          "base_uri": "https://localhost:8080/",
          "height": 564
        },
        "id": "7Niv5H7irqL9",
        "outputId": "f225cfa9-cccd-4b1c-ab70-17996e71b217"
      },
      "execution_count": null,
      "outputs": [
        {
          "output_type": "display_data",
          "data": {
            "text/plain": [
              "<Figure size 800x600 with 2 Axes>"
            ],
            "image/png": "[encoded data removed]"
          },
          "metadata": {}
        }
      ]
    },
    {
      "cell_type": "code",
      "source": [
        "from sklearn.metrics import classification_report, r2_score\n",
        "\n",
        "# Assuming y_test_original and y_pred are defined for your regression model predictions\n",
        "# Calculate R² for solar generation\n",
        "r2_solar = r2_score(y_test_original[:, 0], y_pred[:, 0])  # Adjust index for solar generation\n",
        "\n",
        "# Calculate R² for wind generation\n",
        "r2_wind = r2_score(y_test_original[:, 1], y_pred[:, 1])  # Adjust index for wind generation\n",
        "\n",
        "# Create classification reports\n",
        "classification_report_solar = classification_report(y_test_class_0, y_pred_class_0, output_dict=True)\n",
        "classification_report_wind = classification_report(y_test_class_1, y_pred_class_1, output_dict=True)\n",
        "\n",
        "# Print classification report for solar generation with R²\n",
        "print(\"Classification Report for Solar Generation:\")\n",
        "print(classification_report_solar)\n",
        "print(f\"R-squared (R²) score for Solar Generation: {r2_solar}\")\n",
        "\n",
        "# Print classification report for wind generation with R²\n",
        "print(\"Classification Report for Wind Generation:\")\n",
        "print(classification_report_wind)\n",
        "print(f\"R-squared (R²) score for Wind Generation: {r2_wind}\")\n"
      ],
      "metadata": {
        "colab": {
          "base_uri": "https://localhost:8080/"
        },
        "id": "23QzO2VYsVjY",
        "outputId": "bac5287a-bbca-4f37-8b49-bbfde119f1b5"
      },
      "execution_count": null,
      "outputs": [
        {
          "output_type": "stream",
          "name": "stdout",
          "text": [
            "Classification Report for Solar Generation:\n",
            "{'0': {'precision': 0.8888888888888888, 'recall': 0.39215686274509803, 'f1-score': 0.54421768707483, 'support': 102.0}, '1': {'precision': 0.4918032786885246, 'recall': 0.9230769230769231, 'f1-score': 0.6417112299465241, 'support': 65.0}, 'accuracy': 0.5988023952095808, 'macro avg': {'precision': 0.6903460837887068, 'recall': 0.6576168929110106, 'f1-score': 0.592964458510677, 'support': 167.0}, 'weighted avg': {'precision': 0.7343346094695854, 'recall': 0.5988023952095808, 'f1-score': 0.5821642756177049, 'support': 167.0}}\n",
            "R-squared (R²) score for Solar Generation: 0.9814940819516753\n",
            "Classification Report for Wind Generation:\n",
            "{'1': {'precision': 1.0, 'recall': 1.0, 'f1-score': 1.0, 'support': 167.0}, 'accuracy': 1.0, 'macro avg': {'precision': 1.0, 'recall': 1.0, 'f1-score': 1.0, 'support': 167.0}, 'weighted avg': {'precision': 1.0, 'recall': 1.0, 'f1-score': 1.0, 'support': 167.0}}\n",
            "R-squared (R²) score for Wind Generation: 0.9675340591974088\n"
          ]
        }
      ]
    },
    {
      "cell_type": "code",
      "source": [],
      "metadata": {
        "id": "_Y5mzM7RdVze"
      },
      "execution_count": null,
      "outputs": []
    }
  ]
}